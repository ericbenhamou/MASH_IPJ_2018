{
 "cells": [
  {
   "cell_type": "code",
   "execution_count": 73,
   "metadata": {},
   "outputs": [
    {
     "name": "stdout",
     "output_type": "stream",
     "text": [
      "loading database usagers_2016\n",
      "loading database vehicules_2016\n",
      "loading database lieux_2016\n",
      "loading database caracteristiques_2016\n"
     ]
    },
    {
     "name": "stderr",
     "output_type": "stream",
     "text": [
      "/usr/local/lib/python3.4/dist-packages/IPython/core/interactiveshell.py:2728: DtypeWarning:\n",
      "\n",
      "Columns (2) have mixed types. Specify dtype option on import or set low_memory=False.\n",
      "\n"
     ]
    }
   ],
   "source": [
    "import pandas as pd\n",
    "import matplotlib.pyplot as plt\n",
    "\n",
    "folder = \"data/\"\n",
    "year = \"2016\"\n",
    "files = [\"usagers_\", \"vehicules_\",\"lieux_\", \"caracteristiques_\"]\n",
    "\n",
    "dfs = []\n",
    "\n",
    "for file in files:\n",
    "    print( \"loading database\", file + year )\n",
    "    df = pd.read_csv( folder + file + year + \".csv\", delimiter =',', encoding='latin1')\n",
    "    dfs.append(df)\n"
   ]
  },
  {
   "cell_type": "code",
   "execution_count": 74,
   "metadata": {},
   "outputs": [],
   "source": [
    "import numpy as np\n",
    "import scipy.stats as scs\n",
    "import plotly.graph_objs as go\n",
    "import matplotlib.cm as cm"
   ]
  },
  {
   "cell_type": "code",
   "execution_count": 75,
   "metadata": {},
   "outputs": [
    {
     "name": "stderr",
     "output_type": "stream",
     "text": [
      "/usr/local/lib/python3.4/dist-packages/numpy/lib/function_base.py:780: RuntimeWarning:\n",
      "\n",
      "invalid value encountered in greater_equal\n",
      "\n",
      "/usr/local/lib/python3.4/dist-packages/numpy/lib/function_base.py:781: RuntimeWarning:\n",
      "\n",
      "invalid value encountered in less_equal\n",
      "\n"
     ]
    },
    {
     "data": {
      "image/png": "[encoded data removed]",
      "text/plain": [
       "<matplotlib.figure.Figure at 0x7fd46285c240>"
      ]
     },
     "metadata": {},
     "output_type": "display_data"
    },
    {
     "data": {
      "image/png": "[encoded data removed]",
      "text/plain": [
       "<matplotlib.figure.Figure at 0x7fd462807d30>"
      ]
     },
     "metadata": {},
     "output_type": "display_data"
    }
   ],
   "source": [
    "# Contresens\n",
    "car_lieux = dfs[0].merge(dfs[2], on=\"Num_Acc\")\n",
    "contresens = pd.unique(dfs[1][\"Num_Acc\"].values[dfs[1][\"manv\"].values == 5])\n",
    "circ_contresens = car_lieux[\"circ\"].values[car_lieux[\"Num_Acc\"].isin(contresens)]\n",
    "plt.hist(circ_contresens, range=(0,5))\n",
    "plt.show()\n",
    "\n",
    "catr_contresens = car_lieux[\"catr\"].values[car_lieux[\"Num_Acc\"].isin(contresens)]\n",
    "plt.hist(catr_contresens, range=(0,10))\n",
    "plt.show()"
   ]
  },
  {
   "cell_type": "code",
   "execution_count": null,
   "metadata": {},
   "outputs": [],
   "source": []
  },
  {
   "cell_type": "markdown",
   "metadata": {
    "collapsed": true
   },
   "source": [
    "# Jour 2, tests Valentin et Marie"
   ]
  },
  {
   "cell_type": "code",
   "execution_count": 80,
   "metadata": {
    "scrolled": true
   },
   "outputs": [
    {
     "name": "stdout",
     "output_type": "stream",
     "text": [
      "Nombre d’accidents : 20741\n",
      "Nombre personnes impliquées : 47096\n",
      "Nombre de morts : 2492 \n",
      "Nombre de morts ou blessés graves : 17344\n",
      "sexe_cond         1         2\n",
      "grav                         \n",
      "1          0.361042  0.363512\n",
      "2          0.058139  0.037220\n",
      "3          0.320859  0.297334\n",
      "4          0.259960  0.301933\n",
      "\n"
     ]
    },
    {
     "data": {
      "image/png": "[encoded data removed]",
      "text/plain": [
       "<matplotlib.figure.Figure at 0x7fd454666cc0>"
      ]
     },
     "metadata": {},
     "output_type": "display_data"
    }
   ],
   "source": [
    "routes_nat_dep = dfs[2]['catr'].isin({2, 3})\n",
    "tpc = dfs[2]['circ'] == 3 #Est bidirectionnelle\n",
    "nat_dep_non_tpc = routes_nat_dep & ~tpc\n",
    "print(\"Nombre d’accidents : %d\" % nat_dep_non_tpc.sum())\n",
    "\n",
    "accidents_int = dfs[2][nat_dep_non_tpc].merge(dfs[0], how=\"inner\")\n",
    "print(\"Nombre personnes impliquées : %d\" % accidents_int.shape[0])\n",
    "\n",
    "accidents_int[\"mort\"] = (accidents_int[\"grav\"] == 2)\n",
    "accidents_int[\"grav_fatal\"] = accidents_int[\"grav\"].isin({2,3})\n",
    "print(\"Nombre de morts : %d \" % sum(accidents_int[\"mort\"]))\n",
    "print(\"Nombre de morts ou blessés graves : %d\" % sum(accidents_int[\"grav_fatal\"]))\n",
    "\n",
    "vehicules_usagers = dfs[1].merge(dfs[0])\n",
    "vehicules_conducteurs = vehicules_usagers[vehicules_usagers[\"catu\"] == 1]\n",
    "vehicules_conducteurs = vehicules_conducteurs[[\"Num_Acc\", \"num_veh\", \"sexe\", \"an_nais\"]]\n",
    "vehicules_conducteurs = vehicules_conducteurs.rename(columns={\"sexe\": \"sexe_cond\",\n",
    "                                                              \"an_nais\": \"an_nais_cond\"\n",
    "                                                             })\n",
    "accidents_int = accidents_int.merge(vehicules_conducteurs, how=\"inner\", on=(\"Num_Acc\", \"num_veh\"))\n",
    "\n",
    "ct_sex_gravite = pd.crosstab(accidents_int[\"grav\"], accidents_int[\"sexe_cond\"], normalize=\"columns\")\n",
    "print(ct_sex_gravite)\n",
    "print()\n",
    "plt.matshow(ct_sex_gravite.values, cmap=cm.Reds, interpolation='none')\n",
    "plt.colorbar()\n",
    "plt.show()"
   ]
  },
  {
   "cell_type": "code",
   "execution_count": 81,
   "metadata": {},
   "outputs": [
    {
     "name": "stdout",
     "output_type": "stream",
     "text": [
      "Test du chi2 : le sexe du conducteur est-il indépendant de la gravité de l’accident ?\n",
      "La p-value est de 2.19e-31.\n",
      "\n",
      "Test du chi2 : meurt-on davantage au volant si on est une femme ?\n",
      "La p-value est de 3.55e-18.\n",
      "La corrélation est de -4.05e-02.\n",
      "\n",
      "Test du chi2 : est-on davantage mort ou blessé grave si on est une femme ?\n",
      "La p-value est de 1.04e-17.\n",
      "La corrélation est de -3.99e-02.\n",
      "\n"
     ]
    }
   ],
   "source": [
    "print(\"Test du chi2 : le sexe du conducteur est-il indépendant de la gravité de l’accident ?\")\n",
    "ct_sex_gravite_denormalized = pd.crosstab(accidents_int[\"grav\"], accidents_int[\"sexe_cond\"])\n",
    "res_test = scs.chi2_contingency(ct_sex_gravite_denormalized)\n",
    "print(\"La p-value est de {:.2e}.\".format(res_test[1]))\n",
    "print()\n",
    "\n",
    "print(\"Test du chi2 : meurt-on davantage au volant si on est une femme ?\")\n",
    "res_test = scs.pearsonr(accidents_int['sexe_cond'],\n",
    "                        accidents_int['mort'].values)\n",
    "p_value = res_test[1]\n",
    "if res_test[0] > 0:\n",
    "    p_value = 1\n",
    "else:\n",
    "    p_value *= 2\n",
    "print(\"La p-value est de {:.2e}.\".format(p_value))\n",
    "print(\"La corrélation est de {:.2e}.\".format(res_test[0]))\n",
    "print()\n",
    "\n",
    "print(\"Test du chi2 : est-on davantage mort ou blessé grave si on est une femme ?\")\n",
    "res_test = scs.pearsonr(accidents_int['sexe_cond'],\n",
    "                        accidents_int['grav_fatal'].values)\n",
    "p_value = res_test[1]\n",
    "if res_test[0] > 0:\n",
    "    p_value = 1\n",
    "else:\n",
    "    p_value *= 2\n",
    "print(\"La p-value est de {:.2e}.\".format(p_value))\n",
    "print(\"La corrélation est de {:.2e}.\".format(res_test[0]))\n",
    "print()"
   ]
  },
  {
   "cell_type": "code",
   "execution_count": 82,
   "metadata": {},
   "outputs": [
    {
     "name": "stdout",
     "output_type": "stream",
     "text": [
      "cat_age_cond         0         1         2\n",
      "grav                                      \n",
      "1             0.261430  0.377151  0.373985\n",
      "2             0.051110  0.047453  0.089482\n",
      "3             0.388145  0.299228  0.334115\n",
      "4             0.299314  0.276169  0.202417\n",
      "\n"
     ]
    },
    {
     "data": {
      "image/png": "[encoded data removed]",
      "text/plain": [
       "<matplotlib.figure.Figure at 0x7fd4627af828>"
      ]
     },
     "metadata": {},
     "output_type": "display_data"
    }
   ],
   "source": [
    "an_stat = 2016\n",
    "accidents_int[\"junior\"] = accidents_int[\"an_nais_cond\"] >= an_stat - 21\n",
    "accidents_int[\"senior\"] = accidents_int[\"an_nais_cond\"] <= an_stat - 65\n",
    "accidents_int[\"cat_age_cond\"] = 0*accidents_int[\"junior\"] + \\\n",
    "                                1*(~(accidents_int[\"junior\"] | accidents_int[\"senior\"])) + \\\n",
    "                                2*accidents_int[\"senior\"]\n",
    "ct_age_gravite = pd.crosstab(accidents_int[\"grav\"], accidents_int[\"cat_age_cond\"], normalize=\"columns\")\n",
    "print(ct_age_gravite)\n",
    "print()\n",
    "plt.matshow(ct_age_gravite.values, cmap=cm.Reds, interpolation='none')\n",
    "plt.colorbar()\n",
    "plt.show()"
   ]
  },
  {
   "cell_type": "code",
   "execution_count": 94,
   "metadata": {
    "scrolled": true
   },
   "outputs": [
    {
     "name": "stdout",
     "output_type": "stream",
     "text": [
      "Test du chi2 : l’âge du conducteur est-il indépendant de la gravité de l’accident ?\n",
      "La p-value est de 4.94e-129.\n",
      "\n",
      "Test du chi2 : meurt-on davantage au volant si on est jeune ?\n",
      "(-0.0030990265263269342, 0.5022297129842892)\n",
      "La p-value est de 1.00e+00.\n",
      "La corrélation est de -3.10e-03.\n",
      "\n",
      "Test du chi2 : meurt-on **moins** au volant si on est jeune ?\n",
      "La p-value est de 1.00e+00.\n",
      "La corrélation est de -3.10e-03.\n",
      "\n",
      "Test du chi2 : est-on davantage mort ou blessé grave si on est un jeune ?\n",
      "La p-value est de 3.39e-35.\n",
      "La corrélation est de 5.74e-02.\n"
     ]
    }
   ],
   "source": [
    "print(\"Test du chi2 : l’âge du conducteur est-il indépendant de la gravité de l’accident ?\")\n",
    "ct_age_gravite_denormalized = pd.crosstab(accidents_int[\"grav\"], accidents_int[\"cat_age_cond\"])\n",
    "res_test = scs.chi2_contingency(ct_age_gravite_denormalized)\n",
    "print(\"La p-value est de {:.2e}.\".format(res_test[1]))\n",
    "print()\n",
    "\n",
    "\n",
    "print(\"Test du chi2 : meurt-on davantage au volant si on est jeune ?\")\n",
    "res_test = scs.pearsonr(accidents_int['junior'],\n",
    "                        accidents_int['mort'].values)\n",
    "p_value = res_test[1]\n",
    "if res_test[0] < 0:\n",
    "    p_value = 1\n",
    "else:\n",
    "    p_value *= 2\n",
    "print(\"La p-value est de {:.2e}.\".format(p_value))\n",
    "print(\"La corrélation est de {:.2e}.\".format(res_test[0]))\n",
    "print()\n",
    "\n",
    "\n",
    "print(\"Test du chi2 : meurt-on **moins** au volant si on est jeune ?\")\n",
    "res_test = scs.pearsonr(accidents_int['junior'],\n",
    "                        accidents_int['mort'].values)\n",
    "p_value = res_test[1]\n",
    "if res_test[0] > 0:\n",
    "    p_value = 1\n",
    "else:\n",
    "    p_value *= 2\n",
    "print(\"La p-value est de {:.2e}.\".format(p_value))\n",
    "print(\"La corrélation est de {:.2e}.\".format(res_test[0]))\n",
    "print()\n",
    "\n",
    "\n",
    "print(\"Test du chi2 : est-on davantage mort ou blessé grave si on est un jeune ?\")\n",
    "res_test = scs.pearsonr(accidents_int['junior'],\n",
    "                        accidents_int['grav_fatal'].values)\n",
    "p_value = res_test[1]\n",
    "if res_test[0] < 0:\n",
    "    p_value = 1\n",
    "else:\n",
    "    p_value *= 2\n",
    "print(\"La p-value est de {:.2e}.\".format(p_value))\n",
    "print(\"La corrélation est de {:.2e}.\".format(res_test[0]))"
   ]
  },
  {
   "cell_type": "code",
   "execution_count": 86,
   "metadata": {},
   "outputs": [
    {
     "name": "stdout",
     "output_type": "stream",
     "text": [
      "Test du chi2 : meurt-on davantage au volant si on est vieux ?\n",
      "La p-value est de 3.65e-38.\n",
      "La corrélation est de 5.98e-02.\n",
      "\n",
      "Test du chi2 : est-on davantage mort ou blessé grave si on est un vieux ?\n",
      "La p-value est de 9.75e-20.\n",
      "La corrélation est de 4.23e-02.\n",
      "\n"
     ]
    }
   ],
   "source": [
    "print(\"Test du chi2 : meurt-on davantage au volant si on est vieux ?\")\n",
    "res_test = scs.pearsonr(accidents_int['senior'],\n",
    "                        accidents_int['mort'].values)\n",
    "p_value = res_test[1]\n",
    "if res_test[0] < 0:\n",
    "    p_value = 1\n",
    "else:\n",
    "    p_value *= 2\n",
    "print(\"La p-value est de {:.2e}.\".format(p_value))\n",
    "print(\"La corrélation est de {:.2e}.\".format(res_test[0]))\n",
    "print()\n",
    "\n",
    "print(\"Test du chi2 : est-on davantage mort ou blessé grave si on est un vieux ?\")\n",
    "res_test = scs.pearsonr(accidents_int['senior'],\n",
    "                        accidents_int['grav_fatal'].values)\n",
    "p_value = res_test[1]\n",
    "if res_test[0] < 0:\n",
    "    p_value = 1\n",
    "else:\n",
    "    p_value *= 2\n",
    "print(\"La p-value est de {:.2e}.\".format(p_value))\n",
    "print(\"La corrélation est de {:.2e}.\".format(res_test[0]))\n",
    "print()"
   ]
  },
  {
   "cell_type": "code",
   "execution_count": 89,
   "metadata": {},
   "outputs": [
    {
     "data": {
      "text/plain": [
       "(177, 36)"
      ]
     },
     "execution_count": 89,
     "metadata": {},
     "output_type": "execute_result"
    }
   ],
   "source": [
    "accidents_int[(accidents_int['catu']==1) & (accidents_int['an_nais'] >= 1995) & (accidents_int['an_nais'] <= 1998) & (accidents_int['grav'] == 2)].shape"
   ]
  }
 ],
 "metadata": {
  "kernelspec": {
   "display_name": "Python 3",
   "language": "python",
   "name": "python3"
  },
  "language_info": {
   "codemirror_mode": {
    "name": "ipython",
    "version": 3
   },
   "file_extension": ".py",
   "mimetype": "text/x-python",
   "name": "python",
   "nbconvert_exporter": "python",
   "pygments_lexer": "ipython3",
   "version": "3.4.3"
  }
 },
 "nbformat": 4,
 "nbformat_minor": 2
}
