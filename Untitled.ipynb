{
 "cells": [
  {
   "cell_type": "code",
   "execution_count": 2,
   "metadata": {},
   "outputs": [
    {
     "name": "stdout",
     "output_type": "stream",
     "text": [
      "loading database usagers_2016\n",
      "loading database vehicules_2016\n",
      "loading database lieux_2016\n",
      "loading database caracteristiques_2016\n"
     ]
    },
    {
     "name": "stderr",
     "output_type": "stream",
     "text": [
      "/usr/local/lib/python3.4/dist-packages/IPython/core/interactiveshell.py:2728: DtypeWarning: Columns (2) have mixed types. Specify dtype option on import or set low_memory=False.\n",
      "  interactivity=interactivity, compiler=compiler, result=result)\n"
     ]
    }
   ],
   "source": [
    "import pandas as pd\n",
    "import matplotlib.pyplot as plt\n",
    "\n",
    "folder = \"data/\"\n",
    "year = \"2016\"\n",
    "files = [\"usagers_\", \"vehicules_\",\"lieux_\", \"caracteristiques_\"]\n",
    "\n",
    "dfs = []\n",
    "\n",
    "for file in files:\n",
    "    print( \"loading database\", file + year )\n",
    "    df = pd.read_csv( folder + file + year + \".csv\", delimiter =',', encoding='latin1')\n",
    "    dfs.append(df)\n"
   ]
  },
  {
   "cell_type": "code",
   "execution_count": 85,
   "metadata": {},
   "outputs": [],
   "source": [
    "import numpy as np\n",
    "import scipy.stats as scs\n",
    "import plotly.graph_objs as go\n",
    "import matplotlib.cm as cm\n",
    "import matplotlib.colors as colors\n",
    "import seaborn as sns"
   ]
  },
  {
   "cell_type": "code",
   "execution_count": 194,
   "metadata": {},
   "outputs": [],
   "source": [
    "def mosaic_plot(df, dic_color_row, row_labels=None, col_labels=None, alpha_label=None, top_label=\"Size\",\n",
    "                x_label=None, y_label=None, pad_x=0.01, pad_y=0.01, color_ylabel=False, ax=None, order=\"Size\",\n",
    "                figsize=None, phat=None, lines=[]):\n",
    "    \"\"\" \n",
    "\n",
    "    From a contingency table NxM, plot a mosaic plot with the values inside. There should be a double-index for rows\n",
    "    e.g.\n",
    "                                         3   4   1   0   2  5\n",
    "        Index_1          Index_2                       \n",
    "        AA               C               0   0   0   2   3  0\n",
    "                         P               6   0   0  13   0  0\n",
    "        BB               C               0   2   0   0   0  0\n",
    "                         P              45   1  10  10   1  0\n",
    "        CC               C               0   6  35  15  29  0\n",
    "                         P               1   1   0   2   0  0\n",
    "        DD               C               0  56   0   3   0  0\n",
    "                         P              30   4   2   0   1  9\n",
    "\n",
    "    order: how columns are order, by default, from the biggest to the smallest in term of category. Possible values are \n",
    "        - \"Size\" [default]\n",
    "        - \"Normal\" : as the columns are order in the input df\n",
    "        - list of column names to reorder the column\n",
    "    top_label: Size of each columns. The label can be changed to adapt to your value. \n",
    "               If `False`, nothing is displayed and the secondary legend is set on top instead of on right.\n",
    "               \n",
    "    lines: iterable of couples (y, format, params) : plots supplementary lines (eg to indicate average and uncertainties)\n",
    "    \"\"\"\n",
    "\n",
    "    is_multi = len(df.index.names) == 2\n",
    "    if ax == None:\n",
    "        if figsize == None:\n",
    "            figsize = (len(df.columns), len(df.index.get_level_values(0).unique()))\n",
    "        fig, ax = plt.subplots(1,1, figsize=figsize)\n",
    "\n",
    "    size_col = df.sum().sort_values(ascending=False)\n",
    "    prop_com = size_col.div(size_col.sum())\n",
    "\n",
    "    if order == \"Size\":\n",
    "        df = df[size_col.index.values]\n",
    "    elif order == \"Normal\":\n",
    "        prop_com = prop_com[df.columns]\n",
    "        size_col = size_col[df.columns]\n",
    "    else:\n",
    "        df = df[order]\n",
    "        prop_com = prop_com[order]\n",
    "        size_col = size_col[order]\n",
    "\n",
    "    if is_multi:\n",
    "        inner_index = df.index.get_level_values(1).unique()\n",
    "        prop_ii0 = (df.swaplevel().loc[inner_index[0]]/(df.swaplevel().loc[inner_index[0]]+df.swaplevel().loc[inner_index[1]])).fillna(0)\n",
    "        alpha_ii = 0.5\n",
    "        true_y_labels = df.index.levels[0]\n",
    "    else:\n",
    "        alpha_ii = 1\n",
    "        true_y_labels = df.index\n",
    "\n",
    "    Yt = (df.groupby(level=0).sum().iloc[:,0].div(df.groupby(level=0).sum().iloc[:,0].sum())+pad_y).cumsum() - pad_y\n",
    "    Ytt = df.groupby(level=0).sum().iloc[:,0].div(df.groupby(level=0).sum().iloc[:,0].sum())\n",
    "\n",
    "    x = 0    \n",
    "    for j in df.groupby(level=0).sum().iteritems():\n",
    "        bot = 0\n",
    "        S = float(j[1].sum())\n",
    "        for lab, k in j[1].iteritems():\n",
    "            bars = []\n",
    "            ax.bar(x, k/S, width=prop_com[j[0]], bottom=bot, color=dic_color_row[lab], alpha=alpha_ii, lw=0, align=\"edge\")\n",
    "            if is_multi:\n",
    "                ax.bar(x, k/S, width=prop_com[j[0]]*prop_ii0.loc[lab, j[0]], bottom=bot, color=dic_color_row[lab], lw=0, alpha=1, align=\"edge\")\n",
    "            bot += k/S + pad_y\n",
    "        x += prop_com[j[0]] + pad_x\n",
    "\n",
    "    ## Aesthetic of the plot and ticks\n",
    "    # Y-axis\n",
    "    if row_labels == None:\n",
    "        row_labels = Yt.index\n",
    "    ax.set_yticks(Yt - Ytt/2)\n",
    "    ax.set_yticklabels(row_labels)\n",
    "\n",
    "    ax.set_ylim(0, 1 + (len(j[1]) - 1) * pad_y)\n",
    "    if y_label == None:\n",
    "        y_label = df.index.names[0]\n",
    "    ax.set_ylabel(y_label)\n",
    "\n",
    "    # X-axis\n",
    "    if col_labels == None:\n",
    "        col_labels = prop_com.index\n",
    "    xticks = (prop_com + pad_x).cumsum() - pad_x - prop_com/2.\n",
    "    ax.set_xticks(xticks)\n",
    "    ax.set_xticklabels(col_labels)\n",
    "    ax.set_xlim(0, prop_com.sum() + pad_x * (len(prop_com)-1))\n",
    "\n",
    "    if x_label == None:\n",
    "        x_label = df.columns.name\n",
    "    ax.set_xlabel(x_label)\n",
    "\n",
    "    # Top label\n",
    "    if top_label:\n",
    "        ax2 = ax.twiny()\n",
    "        ax2.set_xlim(*ax.get_xlim())\n",
    "        ax2.set_xticks(xticks) \n",
    "        ax2.set_xticklabels(size_col.values.astype(int))\n",
    "        ax2.set_xlabel(top_label)\n",
    "        ax2.tick_params(top=False, right=False, pad=0, length=0)\n",
    "\n",
    "    # Ticks and axis settings\n",
    "\n",
    "    ax.tick_params(top=False, right=False, pad=5)\n",
    "    sns.despine(left=0, bottom=False, right=0, top=0, offset=3)\n",
    "\n",
    "    # Legend\n",
    "    if is_multi: \n",
    "        if alpha_label == None:\n",
    "            alpha_label = inner_index\n",
    "        bars = [ax.bar(np.nan, np.nan, color=\"0.2\", alpha=[1, 0.5][b]) for b in range(2)]\n",
    "        if top_label:\n",
    "            plt.legend(bars, alpha_label, loc='center left', bbox_to_anchor=(1, 0.5), ncol=1, )\n",
    "        else:\n",
    "            plt.legend(bars, alpha_label, loc=\"lower center\", bbox_to_anchor=(0.5, 1), ncol=2)\n",
    "    plt.tight_layout(rect=[0, 0, .9, 0.95])\n",
    "    if color_ylabel:\n",
    "        for tick, label in zip(ax.get_yticklabels(), true_y_labels):\n",
    "            tick.set_bbox(dict( pad=5, facecolor=dic_color_row[label]))\n",
    "            tick.set_color(\"w\")\n",
    "            tick.set_fontweight(\"bold\")\n",
    "    for y, form, param in lines:\n",
    "        plt.plot([0, 1], [y, y], form, **param)\n",
    "    return ax"
   ]
  },
  {
   "cell_type": "code",
   "execution_count": 4,
   "metadata": {},
   "outputs": [
    {
     "name": "stderr",
     "output_type": "stream",
     "text": [
      "/usr/local/lib/python3.4/dist-packages/numpy/lib/function_base.py:780: RuntimeWarning:\n",
      "\n",
      "invalid value encountered in greater_equal\n",
      "\n",
      "/usr/local/lib/python3.4/dist-packages/numpy/lib/function_base.py:781: RuntimeWarning:\n",
      "\n",
      "invalid value encountered in less_equal\n",
      "\n"
     ]
    },
    {
     "data": {
      "image/png": "[encoded data removed]",
      "text/plain": [
       "<matplotlib.figure.Figure at 0x7f4cfd012278>"
      ]
     },
     "metadata": {},
     "output_type": "display_data"
    },
    {
     "data": {
      "image/png": "[encoded data removed]",
      "text/plain": [
       "<matplotlib.figure.Figure at 0x7f4cfcf30b70>"
      ]
     },
     "metadata": {},
     "output_type": "display_data"
    }
   ],
   "source": [
    "# Contresens\n",
    "car_lieux = dfs[0].merge(dfs[2], on=\"Num_Acc\")\n",
    "contresens = pd.unique(dfs[1][\"Num_Acc\"].values[dfs[1][\"manv\"].values == 5])\n",
    "circ_contresens = car_lieux[\"circ\"].values[car_lieux[\"Num_Acc\"].isin(contresens)]\n",
    "plt.hist(circ_contresens, range=(0,5))\n",
    "plt.show()\n",
    "\n",
    "catr_contresens = car_lieux[\"catr\"].values[car_lieux[\"Num_Acc\"].isin(contresens)]\n",
    "plt.hist(catr_contresens, range=(0,10))\n",
    "plt.show()"
   ]
  },
  {
   "cell_type": "code",
   "execution_count": null,
   "metadata": {},
   "outputs": [],
   "source": []
  },
  {
   "cell_type": "markdown",
   "metadata": {
    "collapsed": true
   },
   "source": [
    "# Jour 2, tests Valentin et Marie"
   ]
  },
  {
   "cell_type": "code",
   "execution_count": 5,
   "metadata": {
    "scrolled": true
   },
   "outputs": [
    {
     "name": "stdout",
     "output_type": "stream",
     "text": [
      "Nombre d’accidents : 20741\n",
      "Nombre personnes impliquées : 47096\n",
      "Nombre de morts : 2492 \n",
      "Nombre de morts ou blessés graves : 17344\n",
      "sexe_cond         1         2\n",
      "grav                         \n",
      "1          0.361042  0.363512\n",
      "2          0.058139  0.037220\n",
      "3          0.320859  0.297334\n",
      "4          0.259960  0.301933\n",
      "\n"
     ]
    },
    {
     "data": {
      "image/png": "[encoded data removed]",
      "text/plain": [
       "<matplotlib.figure.Figure at 0x7f4cfcf199b0>"
      ]
     },
     "metadata": {},
     "output_type": "display_data"
    }
   ],
   "source": [
    "routes_nat_dep = dfs[2]['catr'].isin({2, 3})\n",
    "tpc = dfs[2]['circ'] == 3 #Est bidirectionnelle\n",
    "nat_dep_non_tpc = routes_nat_dep & ~tpc\n",
    "print(\"Nombre d’accidents : %d\" % nat_dep_non_tpc.sum())\n",
    "\n",
    "accidents_int = dfs[2][nat_dep_non_tpc].merge(dfs[0], how=\"inner\")\n",
    "print(\"Nombre personnes impliquées : %d\" % accidents_int.shape[0])\n",
    "\n",
    "accidents_int[\"mort\"] = (accidents_int[\"grav\"] == 2)\n",
    "accidents_int[\"grav_fatal\"] = accidents_int[\"grav\"].isin({2,3})\n",
    "print(\"Nombre de morts : %d \" % sum(accidents_int[\"mort\"]))\n",
    "print(\"Nombre de morts ou blessés graves : %d\" % sum(accidents_int[\"grav_fatal\"]))\n",
    "\n",
    "vehicules_usagers = dfs[1].merge(dfs[0])\n",
    "vehicules_conducteurs = vehicules_usagers[vehicules_usagers[\"catu\"] == 1]\n",
    "vehicules_conducteurs = vehicules_conducteurs[[\"Num_Acc\", \"num_veh\", \"sexe\", \"an_nais\"]]\n",
    "vehicules_conducteurs = vehicules_conducteurs.rename(columns={\"sexe\": \"sexe_cond\",\n",
    "                                                              \"an_nais\": \"an_nais_cond\"\n",
    "                                                             })\n",
    "accidents_int = accidents_int.merge(vehicules_conducteurs, how=\"inner\", on=(\"Num_Acc\", \"num_veh\"))\n",
    "\n",
    "ct_sex_gravite = pd.crosstab(accidents_int[\"grav\"], accidents_int[\"sexe_cond\"], normalize=\"columns\")\n",
    "print(ct_sex_gravite)\n",
    "print()\n",
    "plt.matshow(ct_sex_gravite.values, cmap=cm.Reds, interpolation='none')\n",
    "plt.colorbar()\n",
    "plt.show()"
   ]
  },
  {
   "cell_type": "code",
   "execution_count": 43,
   "metadata": {},
   "outputs": [
    {
     "data": {
      "image/png": "[encoded data removed]",
      "text/plain": [
       "<matplotlib.figure.Figure at 0x7f4cfce5a860>"
      ]
     },
     "metadata": {},
     "output_type": "display_data"
    }
   ],
   "source": [
    "# Graphique mieux présenté possible ?\n",
    "ct_sex_gravite_ord = np.roll(ct_sex_gravite, -1, 0)\n",
    "fig = plt.figure()\n",
    "ax = fig.add_subplot(111)\n",
    "cax = ax.matshow(ct_sex_gravite_ord, cmap=cm.Greys, interpolation='none',\n",
    "                 norm=colors.LogNorm(vmin=ct_sex_gravite_ord.min(),\n",
    "                                     vmax=ct_sex_gravite_ord.max()))\n",
    "plt.colorbar(cax, format=\"%.2f\")\n",
    "ax.set_xticklabels([None, \"hommes\", \"femmes\"])\n",
    "ax.set_yticklabels([None, \"mort\", \"blessé grave\", \"blessé léger\", \"indemne\"])\n",
    "plt.show()"
   ]
  },
  {
   "cell_type": "code",
   "execution_count": 67,
   "metadata": {},
   "outputs": [
    {
     "name": "stdout",
     "output_type": "stream",
     "text": [
      "Test du chi2 : le sexe du conducteur est-il indépendant de la gravité de l’accident ?\n",
      "La p-value est de 2.19e-31.\n",
      "\n",
      "Test du chi2 : meurt-on davantage au volant si on est une femme ?\n",
      "La p-value est de 3.55e-18.\n",
      "La corrélation est de -4.05e-02.\n",
      "\n",
      "Test du chi2 : est-on davantage mort ou blessé grave si on est une femme ?\n",
      "La p-value est de 1.04e-17.\n",
      "La corrélation est de -3.99e-02.\n",
      "\n"
     ]
    }
   ],
   "source": [
    "print(\"Test du chi2 : le sexe du conducteur est-il indépendant de la gravité de l’accident ?\")\n",
    "ct_sex_gravite_denormalized = pd.crosstab(accidents_int[\"grav\"], accidents_int[\"sexe_cond\"])\n",
    "res_test = scs.chi2_contingency(ct_sex_gravite_denormalized)\n",
    "print(\"La p-value est de {:.2e}.\".format(res_test[1]))\n",
    "print()\n",
    "\n",
    "print(\"Test du chi2 : meurt-on davantage au volant si on est une femme ?\")\n",
    "res_test = scs.pearsonr(accidents_int['sexe_cond'],\n",
    "                        accidents_int['mort'].values)\n",
    "p_value = res_test[1]\n",
    "if res_test[0] > 0:\n",
    "    p_value = 1\n",
    "else:\n",
    "    p_value *= 2\n",
    "print(\"La p-value est de {:.2e}.\".format(p_value))\n",
    "print(\"La corrélation est de {:.2e}.\".format(res_test[0]))\n",
    "print()\n",
    "\n",
    "print(\"Test du chi2 : est-on davantage mort ou blessé grave si on est une femme ?\")\n",
    "res_test = scs.pearsonr(accidents_int['sexe_cond'],\n",
    "                        accidents_int['grav_fatal'].values)\n",
    "p_value = res_test[1]\n",
    "if res_test[0] > 0:\n",
    "    p_value = 1\n",
    "else:\n",
    "    p_value *= 2\n",
    "print(\"La p-value est de {:.2e}.\".format(p_value))\n",
    "print(\"La corrélation est de {:.2e}.\".format(res_test[0]))\n",
    "print()"
   ]
  },
  {
   "cell_type": "code",
   "execution_count": 221,
   "metadata": {},
   "outputs": [
    {
     "data": {
      "text/plain": [
       "<matplotlib.axes._subplots.AxesSubplot at 0x7f4cf6025be0>"
      ]
     },
     "execution_count": 221,
     "metadata": {},
     "output_type": "execute_result"
    },
    {
     "data": {
      "image/png": "[encoded data removed]",
      "text/plain": [
       "<matplotlib.figure.Figure at 0x7f4cf6150cc0>"
      ]
     },
     "metadata": {},
     "output_type": "display_data"
    }
   ],
   "source": [
    "#Mosaic plot survivant vs. sexe\n",
    "ct_survived_sex = pd.crosstab(accidents_int[\"mort\"], accidents_int[\"sexe_cond\"])\n",
    "N = np.sum(ct_survived_sex.values)\n",
    "phat = np.sum(ct_survived_sex.values[0,:]) / N\n",
    "deltap = scs.norm.ppf(.975) * np.sqrt(phat * (1-phat) / N)\n",
    "mosaic_plot(ct_survived_sex, {False: \"darkgrey\", True: \"black\"}, figsize=(15,15), pad_x=.01, pad_y=0,\n",
    "            x_label=\"Sexe du conducteur\", y_label=\"Mort\",\n",
    "            row_labels=[\"non\", \"oui\"],\n",
    "            col_labels=[\"homme\", \"femme\"],\n",
    "            top_label=\"Nombre de personnes impliquées\",\n",
    "            lines=[(phat+deltap, \"w--\", {\"linewidth\": 2}),\n",
    "                   (phat-deltap, \"w--\", {\"linewidth\": 2})])"
   ]
  },
  {
   "cell_type": "code",
   "execution_count": 208,
   "metadata": {},
   "outputs": [
    {
     "data": {
      "text/plain": [
       "<matplotlib.axes._subplots.AxesSubplot at 0x7f4cf63f3c88>"
      ]
     },
     "execution_count": 208,
     "metadata": {},
     "output_type": "execute_result"
    },
    {
     "data": {
      "image/png": "[encoded data removed]",
      "text/plain": [
       "<matplotlib.figure.Figure at 0x7f4cf641e7f0>"
      ]
     },
     "metadata": {},
     "output_type": "display_data"
    }
   ],
   "source": [
    "#Mosaic plot survivant vs. sexe\n",
    "ct_grav_sex = pd.crosstab(accidents_int[\"grav_fatal\"], accidents_int[\"sexe_cond\"])\n",
    "N = np.sum(ct_grav_sex.values)\n",
    "phat = np.sum(ct_grav_sex.values[0,:]) / N\n",
    "deltap = scs.norm.ppf(.975) * np.sqrt(phat * (1-phat) / N)\n",
    "mosaic_plot(ct_grav_sex, {False: \"darkgrey\", True: \"black\"}, figsize=(15,15), pad_x=.01, pad_y=0,\n",
    "            x_label=\"Sexe du conducteur\", y_label=\"Mort ou gravement blessé\",\n",
    "            row_labels=[\"non\", \"oui\"],\n",
    "            col_labels=[\"homme\", \"femme\"],\n",
    "            top_label=\"Nombre de personnes impliquées\",\n",
    "            lines=[(phat+deltap, \"k--\", {\"linewidth\": 2}),\n",
    "                   (phat-deltap, \"k--\", {\"linewidth\": 2})])"
   ]
  },
  {
   "cell_type": "code",
   "execution_count": null,
   "metadata": {},
   "outputs": [],
   "source": [
    "an_stat = 2016\n",
    "accidents_int[\"junior\"] = accidents_int[\"an_nais_cond\"] >= an_stat - 21\n",
    "accidents_int[\"senior\"] = accidents_int[\"an_nais_cond\"] <= an_stat - 65\n",
    "accidents_int[\"cat_age_cond\"] = 0*accidents_int[\"junior\"] + \\\n",
    "                                1*(~(accidents_int[\"junior\"] | accidents_int[\"senior\"])) + \\\n",
    "                                2*accidents_int[\"senior\"]\n",
    "ct_age_gravite = pd.crosstab(accidents_int[\"grav\"], accidents_int[\"cat_age_cond\"], normalize=\"columns\")\n",
    "print(ct_age_gravite)\n",
    "print()\n",
    "plt.matshow(ct_age_gravite.values, cmap=cm.Reds, interpolation='none')\n",
    "plt.colorbar()\n",
    "plt.show()"
   ]
  },
  {
   "cell_type": "code",
   "execution_count": null,
   "metadata": {
    "scrolled": true
   },
   "outputs": [],
   "source": [
    "print(\"Test du chi2 : l’âge du conducteur est-il indépendant de la gravité de l’accident ?\")\n",
    "ct_age_gravite_denormalized = pd.crosstab(accidents_int[\"grav\"], accidents_int[\"cat_age_cond\"])\n",
    "res_test = scs.chi2_contingency(ct_age_gravite_denormalized)\n",
    "print(\"La p-value est de {:.2e}.\".format(res_test[1]))\n",
    "print()\n",
    "\n",
    "\n",
    "print(\"Test du chi2 : meurt-on davantage au volant si on est jeune ?\")\n",
    "res_test = scs.pearsonr(accidents_int['junior'],\n",
    "                        accidents_int['mort'].values)\n",
    "p_value = res_test[1]\n",
    "if res_test[0] < 0:\n",
    "    p_value = 1\n",
    "else:\n",
    "    p_value *= 2\n",
    "print(\"La p-value est de {:.2e}.\".format(p_value))\n",
    "print(\"La corrélation est de {:.2e}.\".format(res_test[0]))\n",
    "print()\n",
    "\n",
    "\n",
    "print(\"Test du chi2 : meurt-on **moins** au volant si on est jeune ?\")\n",
    "res_test = scs.pearsonr(accidents_int['junior'],\n",
    "                        accidents_int['mort'].values)\n",
    "p_value = res_test[1]\n",
    "if res_test[0] > 0:\n",
    "    p_value = 1\n",
    "else:\n",
    "    p_value *= 2\n",
    "print(\"La p-value est de {:.2e}.\".format(p_value))\n",
    "print(\"La corrélation est de {:.2e}.\".format(res_test[0]))\n",
    "print()\n",
    "\n",
    "\n",
    "print(\"Test du chi2 : est-on davantage mort ou blessé grave si on est un jeune ?\")\n",
    "res_test = scs.pearsonr(accidents_int['junior'],\n",
    "                        accidents_int['grav_fatal'].values)\n",
    "p_value = res_test[1]\n",
    "if res_test[0] < 0:\n",
    "    p_value = 1\n",
    "else:\n",
    "    p_value *= 2\n",
    "print(\"La p-value est de {:.2e}.\".format(p_value))\n",
    "print(\"La corrélation est de {:.2e}.\".format(res_test[0]))"
   ]
  },
  {
   "cell_type": "code",
   "execution_count": null,
   "metadata": {},
   "outputs": [],
   "source": [
    "print(\"Test du chi2 : meurt-on davantage au volant si on est vieux ?\")\n",
    "res_test = scs.pearsonr(accidents_int['senior'],\n",
    "                        accidents_int['mort'].values)\n",
    "p_value = res_test[1]\n",
    "if res_test[0] < 0:\n",
    "    p_value = 1\n",
    "else:\n",
    "    p_value *= 2\n",
    "print(\"La p-value est de {:.2e}.\".format(p_value))\n",
    "print(\"La corrélation est de {:.2e}.\".format(res_test[0]))\n",
    "print()\n",
    "\n",
    "print(\"Test du chi2 : est-on davantage mort ou blessé grave si on est un vieux ?\")\n",
    "res_test = scs.pearsonr(accidents_int['senior'],\n",
    "                        accidents_int['grav_fatal'].values)\n",
    "p_value = res_test[1]\n",
    "if res_test[0] < 0:\n",
    "    p_value = 1\n",
    "else:\n",
    "    p_value *= 2\n",
    "print(\"La p-value est de {:.2e}.\".format(p_value))\n",
    "print(\"La corrélation est de {:.2e}.\".format(res_test[0]))\n",
    "print()"
   ]
  },
  {
   "cell_type": "markdown",
   "metadata": {},
   "source": [
    "## Différence entre départementale et nationale"
   ]
  },
  {
   "cell_type": "code",
   "execution_count": null,
   "metadata": {},
   "outputs": [],
   "source": [
    "accidents_ints = dfs[2][nat_dep_non_tpc].merge(dfs[0])\n",
    "accidents_int[\"mort\"] = (accidents_int[\"grav\"] == 2)\n",
    "accidents_int[\"grav_fatal\"] = accidents_int[\"grav\"].isin({2,3})\n",
    "\n",
    "ct_grav_catr = pd.crosstab(accidents_ints[\"grav\"], accidents_ints[\"catr\"], normalize=\"columns\")\n",
    "print(ct_grav_catr)\n",
    "plt.matshow(ct_grav_catr, cmap=cm.Reds, interpolation='none')\n",
    "plt.colorbar()\n",
    "plt.show()\n",
    "print(\"2 : nationale ; 3 : départementale\")\n",
    "print(\"0 : indemne, 1 : mort, 2 : blessé grave, 3 : blessé léger\")"
   ]
  },
  {
   "cell_type": "code",
   "execution_count": null,
   "metadata": {},
   "outputs": [],
   "source": [
    "print(\"Test du chi2 : le gestionnaire de l’infrastructure est-il \"\\\n",
    "      \"indépendant de la gravité de l’accident ?\")\n",
    "ct_grav_catr_denormalized = pd.crosstab(accidents_int[\"grav\"], accidents_int[\"catr\"])\n",
    "res_test = scs.chi2_contingency(ct_age_gravite_denormalized)\n",
    "print(\"La p-value est de {:.2e}.\".format(res_test[1]))\n",
    "print()\n",
    "\n",
    "print(\"Test du chi2 : indépendance des chances de mourir et d’être sur route nationale ?\")\n",
    "res_test = scs.pearsonr(accidents_int['catr'],\n",
    "                        accidents_int['mort'].values)\n",
    "p_value = res_test[1]\n",
    "print(\"La p-value est de {:.2e}.\".format(p_value))\n",
    "print(\"La corrélation est de {:.2e}.\".format(res_test[0]))\n",
    "print()\n",
    "\n",
    "print(\"Test du chi2 : indépendance des chances de mourir ou être blessé grave et d’être sur route nationale ?\")\n",
    "res_test = scs.pearsonr(accidents_int['catr'],\n",
    "                        accidents_int['grav_fatal'].values)\n",
    "p_value = res_test[1]\n",
    "print(\"La p-value est de {:.2e}.\".format(p_value))\n",
    "print(\"La corrélation est de {:.2e}.\".format(res_test[0]))\n",
    "print()"
   ]
  },
  {
   "cell_type": "markdown",
   "metadata": {},
   "source": [
    "# Éclairage"
   ]
  },
  {
   "cell_type": "code",
   "execution_count": null,
   "metadata": {
    "scrolled": true
   },
   "outputs": [],
   "source": [
    "accidents_int = accidents_int.merge(dfs[3])\n",
    "ct_lum_grav = pd.crosstab(accidents_ints[\"grav\"], accidents_int[\"lum\"], normalize=\"columns\")\n",
    "print(ct_lum_grav)\n",
    "plt.matshow(ct_lum_grav, cmap=cm.Reds, interpolation='none')\n",
    "plt.colorbar()\n",
    "plt.show()"
   ]
  }
 ],
 "metadata": {
  "kernelspec": {
   "display_name": "Python 3",
   "language": "python",
   "name": "python3"
  },
  "language_info": {
   "codemirror_mode": {
    "name": "ipython",
    "version": 3
   },
   "file_extension": ".py",
   "mimetype": "text/x-python",
   "name": "python",
   "nbconvert_exporter": "python",
   "pygments_lexer": "ipython3",
   "version": "3.4.3"
  }
 },
 "nbformat": 4,
 "nbformat_minor": 2
}
