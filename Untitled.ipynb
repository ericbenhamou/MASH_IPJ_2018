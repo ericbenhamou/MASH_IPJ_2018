{
 "cells": [
  {
   "cell_type": "code",
   "execution_count": 3,
   "metadata": {},
   "outputs": [
    {
     "name": "stdout",
     "output_type": "stream",
     "text": [
      "loading database usagers_2016\n",
      "loading database vehicules_2016\n",
      "loading database lieux_2016\n"
     ]
    },
    {
     "name": "stderr",
     "output_type": "stream",
     "text": [
      "C:\\Users\\marie\\Anaconda3\\lib\\site-packages\\IPython\\core\\interactiveshell.py:2698: DtypeWarning: Columns (2) have mixed types. Specify dtype option on import or set low_memory=False.\n",
      "  interactivity=interactivity, compiler=compiler, result=result)\n"
     ]
    },
    {
     "name": "stdout",
     "output_type": "stream",
     "text": [
      "loading database caracteristiques_2016\n"
     ]
    }
   ],
   "source": [
    "import pandas as pd\n",
    "import matplotlib.pyplot as plt\n",
    "\n",
    "folder = \"data/\"\n",
    "year = \"2016\"\n",
    "files = [\"usagers_\", \"vehicules_\",\"lieux_\", \"caracteristiques_\"]\n",
    "\n",
    "dfs = []\n",
    "\n",
    "for file in files:\n",
    "    print( \"loading database\", file + year )\n",
    "    df = pd.read_csv( folder + file + year + \".csv\", delimiter =',', encoding='ANSI')\n",
    "    dfs.append(df)"
   ]
  },
  {
   "cell_type": "code",
   "execution_count": 28,
   "metadata": {},
   "outputs": [
    {
     "name": "stderr",
     "output_type": "stream",
     "text": [
      "C:\\Users\\marie\\Anaconda3\\lib\\site-packages\\numpy\\lib\\function_base.py:748: RuntimeWarning: invalid value encountered in greater_equal\n",
      "  keep = (tmp_a >= mn)\n",
      "C:\\Users\\marie\\Anaconda3\\lib\\site-packages\\numpy\\lib\\function_base.py:749: RuntimeWarning: invalid value encountered in less_equal\n",
      "  keep &= (tmp_a <= mx)\n"
     ]
    },
    {
     "data": {
      "image/png": "[encoded data removed]",
      "text/plain": [
       "<matplotlib.figure.Figure at 0x19fc03bec88>"
      ]
     },
     "metadata": {},
     "output_type": "display_data"
    },
    {
     "data": {
      "image/png": "[encoded data removed]",
      "text/plain": [
       "<matplotlib.figure.Figure at 0x19fbfa7a978>"
      ]
     },
     "metadata": {},
     "output_type": "display_data"
    }
   ],
   "source": [
    "# Contresens\n",
    "car_lieux = dfs[0].merge(dfs[2], on=\"Num_Acc\")\n",
    "contresens = pd.unique(dfs[1][\"Num_Acc\"].values[dfs[1][\"manv\"].values == 5])\n",
    "circ_contresens = car_lieux[\"circ\"].values[car_lieux[\"Num_Acc\"].isin(contresens)]\n",
    "plt.hist(circ_contresens, range=(0,5))\n",
    "plt.show()\n",
    "\n",
    "catr_contresens = car_lieux[\"catr\"].values[car_lieux[\"Num_Acc\"].isin(contresens)]\n",
    "plt.hist(catr_contresens, range=(0,10))\n",
    "plt.show()"
   ]
  },
  {
   "cell_type": "code",
   "execution_count": 5,
   "metadata": {},
   "outputs": [
    {
     "data": {
      "text/plain": [
       "2"
      ]
     },
     "execution_count": 5,
     "metadata": {},
     "output_type": "execute_result"
    }
   ],
   "source": []
  }
 ],
 "metadata": {
  "kernelspec": {
   "display_name": "Python 3",
   "language": "python",
   "name": "python3"
  },
  "language_info": {
   "codemirror_mode": {
    "name": "ipython",
    "version": 3
   },
   "file_extension": ".py",
   "mimetype": "text/x-python",
   "name": "python",
   "nbconvert_exporter": "python",
   "pygments_lexer": "ipython3",
   "version": "3.6.3"
  }
 },
 "nbformat": 4,
 "nbformat_minor": 2
}
