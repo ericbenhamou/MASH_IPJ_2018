{
 "cells": [
  {
   "cell_type": "markdown",
   "metadata": {},
   "source": [
    "# Description des données"
   ]
  },
  {
   "cell_type": "markdown",
   "metadata": {},
   "source": [
    "On utilise les bases fournies par le site https://www.data.gouv.fr/fr/datasets/base-de-donnees-accidents-corporels-de-la-circulation/. On télécharge les données pour l'année 2016 pour commencer à visualiser les données"
   ]
  },
  {
   "cell_type": "code",
   "execution_count": 13,
   "metadata": {},
   "outputs": [
    {
     "name": "stdout",
     "output_type": "stream",
     "text": [
      "loading database usagers_2016\n",
      "loading database vehicules_2016\n",
      "loading database lieux_2016\n",
      "loading database caracteristiques_2016\n"
     ]
    },
    {
     "name": "stderr",
     "output_type": "stream",
     "text": [
      "C:\\ProgramData\\Miniconda3\\lib\\site-packages\\IPython\\core\\interactiveshell.py:2698: DtypeWarning: Columns (2) have mixed types. Specify dtype option on import or set low_memory=False.\n",
      "  interactivity=interactivity, compiler=compiler, result=result)\n"
     ]
    }
   ],
   "source": [
    "\n",
    "import pandas as pd\n",
    "\n",
    "folder = \"data/\"\n",
    "year = \"2016\"\n",
    "files = [\"usagers_\", \"vehicules_\",\"lieux_\", \"caracteristiques_\"]\n",
    "\n",
    "dfs = []\n",
    "\n",
    "for file in files:\n",
    "    print( \"loading database\", file + year )\n",
    "    df = pd.read_csv( folder + file + year + \".csv\", delimiter =',', encoding='ANSI')\n",
    "    dfs.append(df)"
   ]
  },
  {
   "cell_type": "markdown",
   "metadata": {},
   "source": [
    "On regarde les différentes colonnes"
   ]
  },
  {
   "cell_type": "code",
   "execution_count": 35,
   "metadata": {},
   "outputs": [
    {
     "name": "stdout",
     "output_type": "stream",
     "text": [
      "Index(['Num_Acc', 'place', 'catu', 'grav', 'sexe', 'trajet', 'secu', 'locp',\n",
      "       'actp', 'etatp', 'an_nais', 'num_veh'],\n",
      "      dtype='object')\n",
      "Index(['Num_Acc', 'senc', 'catv', 'occutc', 'obs', 'obsm', 'choc', 'manv',\n",
      "       'num_veh'],\n",
      "      dtype='object')\n",
      "Index(['Num_Acc', 'catr', 'voie', 'v1', 'v2', 'circ', 'nbv', 'pr', 'pr1',\n",
      "       'vosp', 'prof', 'plan', 'lartpc', 'larrout', 'surf', 'infra', 'situ',\n",
      "       'env1'],\n",
      "      dtype='object')\n",
      "Index(['Num_Acc', 'an', 'mois', 'jour', 'hrmn', 'lum', 'agg', 'int', 'atm',\n",
      "       'col', 'com', 'adr', 'gps', 'lat', 'long', 'dep'],\n",
      "      dtype='object')\n"
     ]
    }
   ],
   "source": [
    "for db in dfs:\n",
    "    print(db.columns)"
   ]
  },
  {
   "cell_type": "markdown",
   "metadata": {},
   "source": [
    "Regardons la base combinée"
   ]
  },
  {
   "cell_type": "code",
   "execution_count": 16,
   "metadata": {},
   "outputs": [],
   "source": [
    "# combined db\n",
    "db_combined = dfs[0]\n",
    "for i in range(3):\n",
    "    db_combined = db_combined.merge(dfs[i+1], on='Num_Acc',how='left')"
   ]
  },
  {
   "cell_type": "markdown",
   "metadata": {},
   "source": [
    "Examinons la catégorie 'catr' qui est celle assignée à notre groupe"
   ]
  },
  {
   "cell_type": "code",
   "execution_count": 21,
   "metadata": {},
   "outputs": [
    {
     "data": {
      "image/png": "[encoded data removed]",
      "text/plain": [
       "<matplotlib.figure.Figure at 0x83bac18>"
      ]
     },
     "metadata": {},
     "output_type": "display_data"
    }
   ],
   "source": [
    "import matplotlib.pyplot as plt\n",
    "plt.hist(db_combined['catr'])\n",
    "plt.show()"
   ]
  },
  {
   "cell_type": "code",
   "execution_count": 34,
   "metadata": {},
   "outputs": [
    {
     "data": {
      "text/html": [
       "<div>\n",
       "<style scoped>\n",
       "    .dataframe tbody tr th:only-of-type {\n",
       "        vertical-align: middle;\n",
       "    }\n",
       "\n",
       "    .dataframe tbody tr th {\n",
       "        vertical-align: top;\n",
       "    }\n",
       "\n",
       "    .dataframe thead th {\n",
       "        text-align: right;\n",
       "    }\n",
       "</style>\n",
       "<table border=\"1\" class=\"dataframe\">\n",
       "  <thead>\n",
       "    <tr style=\"text-align: right;\">\n",
       "      <th></th>\n",
       "      <th>Num_Acc</th>\n",
       "      <th>catr</th>\n",
       "      <th>v1</th>\n",
       "      <th>circ</th>\n",
       "      <th>nbv</th>\n",
       "      <th>pr</th>\n",
       "      <th>pr1</th>\n",
       "      <th>vosp</th>\n",
       "      <th>prof</th>\n",
       "      <th>plan</th>\n",
       "      <th>lartpc</th>\n",
       "      <th>larrout</th>\n",
       "      <th>surf</th>\n",
       "      <th>infra</th>\n",
       "      <th>situ</th>\n",
       "      <th>env1</th>\n",
       "    </tr>\n",
       "  </thead>\n",
       "  <tbody>\n",
       "    <tr>\n",
       "      <th>count</th>\n",
       "      <td>5.943200e+04</td>\n",
       "      <td>59432.000000</td>\n",
       "      <td>458.000000</td>\n",
       "      <td>59320.000000</td>\n",
       "      <td>59268.000000</td>\n",
       "      <td>24963.000000</td>\n",
       "      <td>24920.000000</td>\n",
       "      <td>59222.000000</td>\n",
       "      <td>59276.000000</td>\n",
       "      <td>59254.000000</td>\n",
       "      <td>57594.000000</td>\n",
       "      <td>57809.000000</td>\n",
       "      <td>59286.000000</td>\n",
       "      <td>59130.000000</td>\n",
       "      <td>59139.000000</td>\n",
       "      <td>59125.000000</td>\n",
       "    </tr>\n",
       "    <tr>\n",
       "      <th>mean</th>\n",
       "      <td>2.016000e+11</td>\n",
       "      <td>3.322133</td>\n",
       "      <td>2.113537</td>\n",
       "      <td>1.831339</td>\n",
       "      <td>2.038942</td>\n",
       "      <td>32.611626</td>\n",
       "      <td>385.797151</td>\n",
       "      <td>0.136706</td>\n",
       "      <td>1.114195</td>\n",
       "      <td>1.174537</td>\n",
       "      <td>5.141299</td>\n",
       "      <td>50.192755</td>\n",
       "      <td>1.214874</td>\n",
       "      <td>0.436411</td>\n",
       "      <td>1.126482</td>\n",
       "      <td>47.384169</td>\n",
       "    </tr>\n",
       "    <tr>\n",
       "      <th>std</th>\n",
       "      <td>1.715668e+04</td>\n",
       "      <td>1.146852</td>\n",
       "      <td>0.317595</td>\n",
       "      <td>0.773313</td>\n",
       "      <td>1.347160</td>\n",
       "      <td>118.285631</td>\n",
       "      <td>356.885231</td>\n",
       "      <td>0.568819</td>\n",
       "      <td>0.619874</td>\n",
       "      <td>0.735746</td>\n",
       "      <td>21.061400</td>\n",
       "      <td>62.855237</td>\n",
       "      <td>0.880435</td>\n",
       "      <td>1.348488</td>\n",
       "      <td>0.757122</td>\n",
       "      <td>49.315412</td>\n",
       "    </tr>\n",
       "    <tr>\n",
       "      <th>min</th>\n",
       "      <td>2.016000e+11</td>\n",
       "      <td>1.000000</td>\n",
       "      <td>2.000000</td>\n",
       "      <td>0.000000</td>\n",
       "      <td>0.000000</td>\n",
       "      <td>0.000000</td>\n",
       "      <td>0.000000</td>\n",
       "      <td>0.000000</td>\n",
       "      <td>0.000000</td>\n",
       "      <td>0.000000</td>\n",
       "      <td>0.000000</td>\n",
       "      <td>0.000000</td>\n",
       "      <td>0.000000</td>\n",
       "      <td>0.000000</td>\n",
       "      <td>0.000000</td>\n",
       "      <td>0.000000</td>\n",
       "    </tr>\n",
       "    <tr>\n",
       "      <th>25%</th>\n",
       "      <td>2.016000e+11</td>\n",
       "      <td>3.000000</td>\n",
       "      <td>2.000000</td>\n",
       "      <td>1.000000</td>\n",
       "      <td>1.000000</td>\n",
       "      <td>3.000000</td>\n",
       "      <td>50.000000</td>\n",
       "      <td>0.000000</td>\n",
       "      <td>1.000000</td>\n",
       "      <td>1.000000</td>\n",
       "      <td>0.000000</td>\n",
       "      <td>0.000000</td>\n",
       "      <td>1.000000</td>\n",
       "      <td>0.000000</td>\n",
       "      <td>1.000000</td>\n",
       "      <td>0.000000</td>\n",
       "    </tr>\n",
       "    <tr>\n",
       "      <th>50%</th>\n",
       "      <td>2.016000e+11</td>\n",
       "      <td>4.000000</td>\n",
       "      <td>2.000000</td>\n",
       "      <td>2.000000</td>\n",
       "      <td>2.000000</td>\n",
       "      <td>11.000000</td>\n",
       "      <td>350.000000</td>\n",
       "      <td>0.000000</td>\n",
       "      <td>1.000000</td>\n",
       "      <td>1.000000</td>\n",
       "      <td>0.000000</td>\n",
       "      <td>50.000000</td>\n",
       "      <td>1.000000</td>\n",
       "      <td>0.000000</td>\n",
       "      <td>1.000000</td>\n",
       "      <td>3.000000</td>\n",
       "    </tr>\n",
       "    <tr>\n",
       "      <th>75%</th>\n",
       "      <td>2.016000e+11</td>\n",
       "      <td>4.000000</td>\n",
       "      <td>2.000000</td>\n",
       "      <td>2.000000</td>\n",
       "      <td>2.000000</td>\n",
       "      <td>31.000000</td>\n",
       "      <td>630.000000</td>\n",
       "      <td>0.000000</td>\n",
       "      <td>1.000000</td>\n",
       "      <td>1.000000</td>\n",
       "      <td>0.000000</td>\n",
       "      <td>73.000000</td>\n",
       "      <td>1.000000</td>\n",
       "      <td>0.000000</td>\n",
       "      <td>1.000000</td>\n",
       "      <td>99.000000</td>\n",
       "    </tr>\n",
       "    <tr>\n",
       "      <th>max</th>\n",
       "      <td>2.016001e+11</td>\n",
       "      <td>9.000000</td>\n",
       "      <td>3.000000</td>\n",
       "      <td>4.000000</td>\n",
       "      <td>13.000000</td>\n",
       "      <td>8370.000000</td>\n",
       "      <td>5660.000000</td>\n",
       "      <td>3.000000</td>\n",
       "      <td>4.000000</td>\n",
       "      <td>4.000000</td>\n",
       "      <td>907.000000</td>\n",
       "      <td>999.000000</td>\n",
       "      <td>9.000000</td>\n",
       "      <td>7.000000</td>\n",
       "      <td>5.000000</td>\n",
       "      <td>99.000000</td>\n",
       "    </tr>\n",
       "  </tbody>\n",
       "</table>\n",
       "</div>"
      ],
      "text/plain": [
       "            Num_Acc          catr          v1          circ           nbv  \\\n",
       "count  5.943200e+04  59432.000000  458.000000  59320.000000  59268.000000   \n",
       "mean   2.016000e+11      3.322133    2.113537      1.831339      2.038942   \n",
       "std    1.715668e+04      1.146852    0.317595      0.773313      1.347160   \n",
       "min    2.016000e+11      1.000000    2.000000      0.000000      0.000000   \n",
       "25%    2.016000e+11      3.000000    2.000000      1.000000      1.000000   \n",
       "50%    2.016000e+11      4.000000    2.000000      2.000000      2.000000   \n",
       "75%    2.016000e+11      4.000000    2.000000      2.000000      2.000000   \n",
       "max    2.016001e+11      9.000000    3.000000      4.000000     13.000000   \n",
       "\n",
       "                 pr           pr1          vosp          prof          plan  \\\n",
       "count  24963.000000  24920.000000  59222.000000  59276.000000  59254.000000   \n",
       "mean      32.611626    385.797151      0.136706      1.114195      1.174537   \n",
       "std      118.285631    356.885231      0.568819      0.619874      0.735746   \n",
       "min        0.000000      0.000000      0.000000      0.000000      0.000000   \n",
       "25%        3.000000     50.000000      0.000000      1.000000      1.000000   \n",
       "50%       11.000000    350.000000      0.000000      1.000000      1.000000   \n",
       "75%       31.000000    630.000000      0.000000      1.000000      1.000000   \n",
       "max     8370.000000   5660.000000      3.000000      4.000000      4.000000   \n",
       "\n",
       "             lartpc       larrout          surf         infra          situ  \\\n",
       "count  57594.000000  57809.000000  59286.000000  59130.000000  59139.000000   \n",
       "mean       5.141299     50.192755      1.214874      0.436411      1.126482   \n",
       "std       21.061400     62.855237      0.880435      1.348488      0.757122   \n",
       "min        0.000000      0.000000      0.000000      0.000000      0.000000   \n",
       "25%        0.000000      0.000000      1.000000      0.000000      1.000000   \n",
       "50%        0.000000     50.000000      1.000000      0.000000      1.000000   \n",
       "75%        0.000000     73.000000      1.000000      0.000000      1.000000   \n",
       "max      907.000000    999.000000      9.000000      7.000000      5.000000   \n",
       "\n",
       "               env1  \n",
       "count  59125.000000  \n",
       "mean      47.384169  \n",
       "std       49.315412  \n",
       "min        0.000000  \n",
       "25%        0.000000  \n",
       "50%        3.000000  \n",
       "75%       99.000000  \n",
       "max       99.000000  "
      ]
     },
     "execution_count": 34,
     "metadata": {},
     "output_type": "execute_result"
    }
   ],
   "source": [
    "dfs[2].describe()"
   ]
  },
  {
   "cell_type": "markdown",
   "metadata": {},
   "source": [
    "examinons 'hrm'"
   ]
  },
  {
   "cell_type": "code",
   "execution_count": 32,
   "metadata": {},
   "outputs": [
    {
     "data": {
      "image/png": "[encoded data removed]",
      "text/plain": [
       "<matplotlib.figure.Figure at 0x83baa58>"
      ]
     },
     "metadata": {},
     "output_type": "display_data"
    }
   ],
   "source": [
    "plt.hist( db_combined['hrmn'] )\n",
    "plt.show()"
   ]
  },
  {
   "cell_type": "code",
   "execution_count": 36,
   "metadata": {},
   "outputs": [
    {
     "data": {
      "text/plain": [
       "0     1445\n",
       "1     1445\n",
       "2     1445\n",
       "3     1445\n",
       "4     1800\n",
       "5     1800\n",
       "6     1800\n",
       "7     1900\n",
       "8     1900\n",
       "9     1930\n",
       "10    1930\n",
       "11    1930\n",
       "12    1930\n",
       "13    1930\n",
       "14    1930\n",
       "15    1100\n",
       "16    1100\n",
       "17    1100\n",
       "18    1100\n",
       "19    1100\n",
       "20    1100\n",
       "21    1115\n",
       "22    1115\n",
       "23    1145\n",
       "24    1145\n",
       "25    1145\n",
       "26    1145\n",
       "27    1145\n",
       "28    1145\n",
       "29    1915\n",
       "      ... \n",
       "70     815\n",
       "71     815\n",
       "72     815\n",
       "73     715\n",
       "74     745\n",
       "75     745\n",
       "76     745\n",
       "77     745\n",
       "78    1915\n",
       "79    1915\n",
       "80    1915\n",
       "81    1915\n",
       "82    1915\n",
       "83    1915\n",
       "84    1915\n",
       "85    1915\n",
       "86    1915\n",
       "87    1915\n",
       "88    1915\n",
       "89    1915\n",
       "90    1915\n",
       "91    1915\n",
       "92    1915\n",
       "93    1915\n",
       "94    1915\n",
       "95    1915\n",
       "96    2030\n",
       "97    2030\n",
       "98    2030\n",
       "99    2030\n",
       "Name: hrmn, Length: 100, dtype: int64"
      ]
     },
     "execution_count": 36,
     "metadata": {},
     "output_type": "execute_result"
    }
   ],
   "source": []
  },
  {
   "cell_type": "code",
   "execution_count": null,
   "metadata": {},
   "outputs": [],
   "source": []
  }
 ],
 "metadata": {
  "kernelspec": {
   "display_name": "Python 3",
   "language": "python",
   "name": "python3"
  },
  "language_info": {
   "codemirror_mode": {
    "name": "ipython",
    "version": 3
   },
   "file_extension": ".py",
   "mimetype": "text/x-python",
   "name": "python",
   "nbconvert_exporter": "python",
   "pygments_lexer": "ipython3",
   "version": "3.6.3"
  }
 },
 "nbformat": 4,
 "nbformat_minor": 2
}
