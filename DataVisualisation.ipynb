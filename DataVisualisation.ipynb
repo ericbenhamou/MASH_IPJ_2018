{
 "cells": [
  {
   "cell_type": "code",
   "execution_count": 1,
   "metadata": {
    "collapsed": false
   },
   "outputs": [
    {
     "name": "stdout",
     "output_type": "stream",
     "text": [
      "loading database usagers_2016\n",
      "loading database vehicules_2016\n",
      "loading database lieux_2016\n",
      "loading database caracteristiques_2016\n"
     ]
    },
    {
     "name": "stderr",
     "output_type": "stream",
     "text": [
      "D:\\Users\\eric.benhamou\\AppData\\Local\\Continuum\\Anaconda3\\lib\\site-packages\\IPython\\core\\interactiveshell.py:2717: DtypeWarning: Columns (2) have mixed types. Specify dtype option on import or set low_memory=False.\n",
      "  interactivity=interactivity, compiler=compiler, result=result)\n"
     ]
    }
   ],
   "source": [
    "import pandas as pd\n",
    "import matplotlib.pyplot as plt\n",
    "\n",
    "folder = \"data/\"\n",
    "year = \"2016\"\n",
    "files = [\"usagers_\", \"vehicules_\",\"lieux_\", \"caracteristiques_\"]\n",
    "\n",
    "dfs = []\n",
    "\n",
    "for file in files:\n",
    "    print( \"loading database\", file + year )\n",
    "    df = pd.read_csv( folder + file + year + \".csv\", delimiter =',', encoding='latin1')\n",
    "    dfs.append(df)\n"
   ]
  },
  {
   "cell_type": "code",
   "execution_count": 2,
   "metadata": {
    "collapsed": true
   },
   "outputs": [],
   "source": [
    "import numpy as np\n",
    "import scipy.stats as scs\n",
    "import plotly.graph_objs as go\n",
    "import matplotlib.cm as cm\n",
    "import matplotlib.colors as colors\n",
    "import seaborn as sns"
   ]
  },
  {
   "cell_type": "code",
   "execution_count": 3,
   "metadata": {
    "collapsed": true
   },
   "outputs": [],
   "source": [
    "def mosaic_plot(df, dic_color_row, row_labels=None, col_labels=None, alpha_label=None, top_label=\"Size\",\n",
    "                x_label=None, y_label=None, pad_x=0.01, pad_y=0.01, color_ylabel=False, ax=None, order=\"Size\",\n",
    "                figsize=None, phat=None, lines=[]):\n",
    "    \"\"\" \n",
    "\n",
    "    From a contingency table NxM, plot a mosaic plot with the values inside. There should be a double-index for rows\n",
    "    e.g.\n",
    "                                         3   4   1   0   2  5\n",
    "        Index_1          Index_2                       \n",
    "        AA               C               0   0   0   2   3  0\n",
    "                         P               6   0   0  13   0  0\n",
    "        BB               C               0   2   0   0   0  0\n",
    "                         P              45   1  10  10   1  0\n",
    "        CC               C               0   6  35  15  29  0\n",
    "                         P               1   1   0   2   0  0\n",
    "        DD               C               0  56   0   3   0  0\n",
    "                         P              30   4   2   0   1  9\n",
    "\n",
    "    order: how columns are order, by default, from the biggest to the smallest in term of category. Possible values are \n",
    "        - \"Size\" [default]\n",
    "        - \"Normal\" : as the columns are order in the input df\n",
    "        - list of column names to reorder the column\n",
    "    top_label: Size of each columns. The label can be changed to adapt to your value. \n",
    "               If `False`, nothing is displayed and the secondary legend is set on top instead of on right.\n",
    "               \n",
    "    lines: iterable of couples (y, format, params) : plots supplementary lines (eg to indicate average and uncertainties)\n",
    "    \"\"\"\n",
    "\n",
    "    is_multi = len(df.index.names) == 2\n",
    "    if ax == None:\n",
    "        if figsize == None:\n",
    "            figsize = (len(df.columns), len(df.index.get_level_values(0).unique()))\n",
    "        fig, ax = plt.subplots(1,1, figsize=figsize)\n",
    "\n",
    "    size_col = df.sum().sort_values(ascending=False)\n",
    "    prop_com = size_col.div(size_col.sum())\n",
    "\n",
    "    if order == \"Size\":\n",
    "        df = df[size_col.index.values]\n",
    "    elif order == \"Normal\":\n",
    "        prop_com = prop_com[df.columns]\n",
    "        size_col = size_col[df.columns]\n",
    "    else:\n",
    "        df = df[order]\n",
    "        prop_com = prop_com[order]\n",
    "        size_col = size_col[order]\n",
    "\n",
    "    if is_multi:\n",
    "        inner_index = df.index.get_level_values(1).unique()\n",
    "        prop_ii0 = (df.swaplevel().loc[inner_index[0]]/(df.swaplevel().loc[inner_index[0]]+df.swaplevel().loc[inner_index[1]])).fillna(0)\n",
    "        alpha_ii = 0.5\n",
    "        true_y_labels = df.index.levels[0]\n",
    "    else:\n",
    "        alpha_ii = 1\n",
    "        true_y_labels = df.index\n",
    "\n",
    "    Yt = (df.groupby(level=0).sum().iloc[:,0].div(df.groupby(level=0).sum().iloc[:,0].sum())+pad_y).cumsum() - pad_y\n",
    "    Ytt = df.groupby(level=0).sum().iloc[:,0].div(df.groupby(level=0).sum().iloc[:,0].sum())\n",
    "\n",
    "    x = 0    \n",
    "    for j in df.groupby(level=0).sum().iteritems():\n",
    "        bot = 0\n",
    "        S = float(j[1].sum())\n",
    "        for lab, k in j[1].iteritems():\n",
    "            bars = []\n",
    "            ax.bar(x, k/S, width=prop_com[j[0]], bottom=bot, color=dic_color_row[lab], alpha=alpha_ii, lw=0, align=\"edge\")\n",
    "            if is_multi:\n",
    "                ax.bar(x, k/S, width=prop_com[j[0]]*prop_ii0.loc[lab, j[0]], bottom=bot, color=dic_color_row[lab], lw=0, alpha=1, align=\"edge\")\n",
    "            bot += k/S + pad_y\n",
    "        x += prop_com[j[0]] + pad_x\n",
    "\n",
    "    ## Aesthetic of the plot and ticks\n",
    "    # Y-axis\n",
    "    if row_labels == None:\n",
    "        row_labels = Yt.index\n",
    "    ax.set_yticks(Yt - Ytt/2)\n",
    "    ax.set_yticklabels(row_labels)\n",
    "\n",
    "    ax.set_ylim(0, 1 + (len(j[1]) - 1) * pad_y)\n",
    "    if y_label == None:\n",
    "        y_label = df.index.names[0]\n",
    "    ax.set_ylabel(y_label)\n",
    "\n",
    "    # X-axis\n",
    "    if col_labels == None:\n",
    "        col_labels = prop_com.index\n",
    "    xticks = (prop_com + pad_x).cumsum() - pad_x - prop_com/2.\n",
    "    ax.set_xticks(xticks)\n",
    "    ax.set_xticklabels(col_labels)\n",
    "    ax.set_xlim(0, prop_com.sum() + pad_x * (len(prop_com)-1))\n",
    "\n",
    "    if x_label == None:\n",
    "        x_label = df.columns.name\n",
    "    ax.set_xlabel(x_label)\n",
    "\n",
    "    # Top label\n",
    "    if top_label:\n",
    "        ax2 = ax.twiny()\n",
    "        ax2.set_xlim(*ax.get_xlim())\n",
    "        ax2.set_xticks(xticks) \n",
    "        ax2.set_xticklabels(size_col.values.astype(int))\n",
    "        ax2.set_xlabel(top_label)\n",
    "        ax2.tick_params(top=False, right=False, pad=0, length=0)\n",
    "\n",
    "    # Ticks and axis settings\n",
    "\n",
    "    ax.tick_params(top=False, right=False, pad=5)\n",
    "    sns.despine(left=0, bottom=False, right=0, top=0, offset=3)\n",
    "\n",
    "    # Legend\n",
    "    if is_multi: \n",
    "        if alpha_label == None:\n",
    "            alpha_label = inner_index\n",
    "        bars = [ax.bar(np.nan, np.nan, color=\"0.2\", alpha=[1, 0.5][b]) for b in range(2)]\n",
    "        if top_label:\n",
    "            plt.legend(bars, alpha_label, loc='center left', bbox_to_anchor=(1, 0.5), ncol=1, )\n",
    "        else:\n",
    "            plt.legend(bars, alpha_label, loc=\"lower center\", bbox_to_anchor=(0.5, 1), ncol=2)\n",
    "    plt.tight_layout(rect=[0, 0, .9, 0.95])\n",
    "    if color_ylabel:\n",
    "        for tick, label in zip(ax.get_yticklabels(), true_y_labels):\n",
    "            tick.set_bbox(dict( pad=5, facecolor=dic_color_row[label]))\n",
    "            tick.set_color(\"w\")\n",
    "            tick.set_fontweight(\"bold\")\n",
    "    for y, form, param in lines:\n",
    "        plt.plot([0, 1], [y, y], form, **param)\n",
    "    return ax"
   ]
  },
  {
   "cell_type": "code",
   "execution_count": 4,
   "metadata": {
    "collapsed": false
   },
   "outputs": [
    {
     "name": "stderr",
     "output_type": "stream",
     "text": [
      "D:\\Users\\eric.benhamou\\AppData\\Local\\Continuum\\Anaconda3\\lib\\site-packages\\numpy\\lib\\function_base.py:780: RuntimeWarning:\n",
      "\n",
      "invalid value encountered in greater_equal\n",
      "\n",
      "D:\\Users\\eric.benhamou\\AppData\\Local\\Continuum\\Anaconda3\\lib\\site-packages\\numpy\\lib\\function_base.py:781: RuntimeWarning:\n",
      "\n",
      "invalid value encountered in less_equal\n",
      "\n"
     ]
    },
    {
     "data": {
      "image/png": "[encoded data removed]",
      "text/plain": [
       "<matplotlib.figure.Figure at 0x6c8241deb8>"
      ]
     },
     "metadata": {},
     "output_type": "display_data"
    },
    {
     "data": {
      "image/png": "[encoded data removed]",
      "text/plain": [
       "<matplotlib.figure.Figure at 0x6c82821550>"
      ]
     },
     "metadata": {},
     "output_type": "display_data"
    }
   ],
   "source": [
    "# Contresens\n",
    "car_lieux = dfs[0].merge(dfs[2], on=\"Num_Acc\")\n",
    "contresens = pd.unique(dfs[1][\"Num_Acc\"].values[dfs[1][\"manv\"].values == 5])\n",
    "circ_contresens = car_lieux[\"circ\"].values[car_lieux[\"Num_Acc\"].isin(contresens)]\n",
    "plt.hist(circ_contresens, range=(0,5))\n",
    "plt.show()\n",
    "\n",
    "catr_contresens = car_lieux[\"catr\"].values[car_lieux[\"Num_Acc\"].isin(contresens)]\n",
    "plt.hist(catr_contresens, range=(0,10))\n",
    "plt.show()"
   ]
  },
  {
   "cell_type": "code",
   "execution_count": 5,
   "metadata": {
    "collapsed": false
   },
   "outputs": [
    {
     "data": {
      "text/plain": [
       "<matplotlib.text.Text at 0x6c82e82cf8>"
      ]
     },
     "execution_count": 5,
     "metadata": {},
     "output_type": "execute_result"
    }
   ],
   "source": [
    "accidents = dfs[2].merge(dfs[0], how=\"inner\")\n",
    "plt.hist(accidents[\"catr\"][ (accidents[\"grav\"] == 2) & (accidents[\"catr\"] < 5)])\n",
    "plt.xticks([1.15, 2.05, 2.95, 3.85], [\"autoroute\", \"nationale\", \"départementale\", \"communale\"])\n",
    "plt.title(\"Nombre de morts en fonction du type de route\")"
   ]
  },
  {
   "cell_type": "markdown",
   "metadata": {
    "collapsed": true
   },
   "source": [
    "# Jour 2, tests Valentin et Marie"
   ]
  },
  {
   "cell_type": "code",
   "execution_count": 6,
   "metadata": {
    "collapsed": false,
    "scrolled": true
   },
   "outputs": [
    {
     "name": "stdout",
     "output_type": "stream",
     "text": [
      "Nombre d’accidents : 20741\n",
      "Nombre personnes impliquées : 47096\n",
      "Nombre de morts : 2492 \n",
      "Nombre de morts ou blessés graves : 17344\n",
      "\\begin{tabular}{lrr}\n",
      "\\toprule\n",
      "sexe\\_cond &         1 &         2 \\\\\n",
      "grav &           &           \\\\\n",
      "\\midrule\n",
      "1    &  0.361042 &  0.363512 \\\\\n",
      "2    &  0.058139 &  0.037220 \\\\\n",
      "3    &  0.320859 &  0.297334 \\\\\n",
      "4    &  0.259960 &  0.301933 \\\\\n",
      "\\bottomrule\n",
      "\\end{tabular}\n",
      "\n",
      "\n"
     ]
    },
    {
     "data": {
      "image/png": "[encoded data removed]",
      "text/plain": [
       "<matplotlib.figure.Figure at 0x6c823c8cf8>"
      ]
     },
     "metadata": {},
     "output_type": "display_data"
    },
    {
     "data": {
      "image/png": "[encoded data removed]",
      "text/plain": [
       "<matplotlib.figure.Figure at 0x6c838bcb38>"
      ]
     },
     "metadata": {},
     "output_type": "display_data"
    }
   ],
   "source": [
    "routes_nat_dep = dfs[2]['catr'].isin({2, 3})\n",
    "tpc = dfs[2]['circ'] == 3 #Est bidirectionnelle\n",
    "nat_dep_non_tpc = routes_nat_dep & ~tpc\n",
    "print(\"Nombre d’accidents : %d\" % nat_dep_non_tpc.sum())\n",
    "\n",
    "accidents_int = dfs[2][nat_dep_non_tpc].merge(dfs[0], how=\"inner\")\n",
    "print(\"Nombre personnes impliquées : %d\" % accidents_int.shape[0])\n",
    "\n",
    "accidents_int[\"mort\"] = (accidents_int[\"grav\"] == 2)\n",
    "accidents_int[\"grav_fatal\"] = accidents_int[\"grav\"].isin({2,3})\n",
    "print(\"Nombre de morts : %d \" % sum(accidents_int[\"mort\"]))\n",
    "print(\"Nombre de morts ou blessés graves : %d\" % sum(accidents_int[\"grav_fatal\"]))\n",
    "\n",
    "vehicules_usagers = dfs[1].merge(dfs[0])\n",
    "vehicules_conducteurs = vehicules_usagers[vehicules_usagers[\"catu\"] == 1]\n",
    "vehicules_conducteurs = vehicules_conducteurs[[\"Num_Acc\", \"num_veh\", \"sexe\", \"an_nais\"]]\n",
    "vehicules_conducteurs = vehicules_conducteurs.rename(columns={\"sexe\": \"sexe_cond\",\n",
    "                                                              \"an_nais\": \"an_nais_cond\"\n",
    "                                                             })\n",
    "accidents_int = accidents_int.merge(vehicules_conducteurs, how=\"inner\", on=(\"Num_Acc\", \"num_veh\"))\n",
    "\n",
    "ct_sex_gravite = pd.crosstab(accidents_int[\"grav\"], accidents_int[\"sexe_cond\"], normalize=\"columns\")\n",
    "print(ct_sex_gravite.to_latex())\n",
    "print()\n",
    "plt.matshow(ct_sex_gravite.values, cmap=cm.Reds, interpolation='none')\n",
    "plt.colorbar()\n",
    "plt.show()"
   ]
  },
  {
   "cell_type": "code",
   "execution_count": 7,
   "metadata": {
    "collapsed": false
   },
   "outputs": [
    {
     "name": "stdout",
     "output_type": "stream",
     "text": [
      "grav      1     2      3     4\n",
      "sexe                          \n",
      "1     12306  1888  10153  8041\n",
      "2      4649   592   4613  4639\n"
     ]
    }
   ],
   "source": [
    "#Nombre morts et blessés graves hommes sur nos routes\n",
    "ct = pd.crosstab(accidents_int[\"sexe\"], accidents_int[\"grav\"])\n",
    "print(ct)"
   ]
  },
  {
   "cell_type": "code",
   "execution_count": 8,
   "metadata": {
    "collapsed": false
   },
   "outputs": [
    {
     "data": {
      "image/png": "[encoded data removed]",
      "text/plain": [
       "<matplotlib.figure.Figure at 0x6c824216a0>"
      ]
     },
     "metadata": {},
     "output_type": "display_data"
    }
   ],
   "source": [
    "# Graphique mieux présenté possible ?\n",
    "ct_sex_gravite_ord = np.roll(ct_sex_gravite, -1, 0)\n",
    "fig = plt.figure()\n",
    "ax = fig.add_subplot(111)\n",
    "cax = ax.matshow(ct_sex_gravite_ord, cmap=cm.Greys, interpolation='none',\n",
    "                 norm=colors.LogNorm(vmin=ct_sex_gravite_ord.min(),\n",
    "                                     vmax=ct_sex_gravite_ord.max()))\n",
    "plt.colorbar(cax, format=\"%.2f\")\n",
    "ax.set_xticklabels([None, \"hommes\", \"femmes\"])\n",
    "ax.set_yticklabels([None, \"mort\", \"blessé grave\", \"blessé léger\", \"indemne\"])\n",
    "plt.show()"
   ]
  },
  {
   "cell_type": "code",
   "execution_count": 9,
   "metadata": {
    "collapsed": false
   },
   "outputs": [
    {
     "name": "stdout",
     "output_type": "stream",
     "text": [
      "Test du chi2 : le sexe du conducteur est-il indépendant de la gravité de l’accident ?\n",
      "La p-value est de 2.19e-31.\n",
      "\n",
      "Test du chi2 : meurt-on davantage au volant si on est une femme ?\n",
      "La p-value est de 3.55e-18.\n",
      "La corrélation est de -4.05e-02.\n",
      "\n",
      "Test du chi2 : est-on davantage mort ou blessé grave si on est une femme ?\n",
      "La p-value est de 1.04e-17.\n",
      "La corrélation est de -3.99e-02.\n",
      "\n"
     ]
    }
   ],
   "source": [
    "print(\"Test du chi2 : le sexe du conducteur est-il indépendant de la gravité de l’accident ?\")\n",
    "ct_sex_gravite_denormalized = pd.crosstab(accidents_int[\"grav\"], accidents_int[\"sexe_cond\"])\n",
    "res_test = scs.chi2_contingency(ct_sex_gravite_denormalized)\n",
    "print(\"La p-value est de {:.2e}.\".format(res_test[1]))\n",
    "print()\n",
    "\n",
    "print(\"Test du chi2 : meurt-on davantage au volant si on est une femme ?\")\n",
    "res_test = scs.pearsonr(accidents_int['sexe_cond'],\n",
    "                        accidents_int['mort'].values)\n",
    "p_value = res_test[1]\n",
    "if res_test[0] > 0:\n",
    "    p_value = 1\n",
    "else:\n",
    "    p_value *= 2\n",
    "print(\"La p-value est de {:.2e}.\".format(p_value))\n",
    "print(\"La corrélation est de {:.2e}.\".format(res_test[0]))\n",
    "print()\n",
    "\n",
    "print(\"Test du chi2 : est-on davantage mort ou blessé grave si on est une femme ?\")\n",
    "res_test = scs.pearsonr(accidents_int['sexe_cond'],\n",
    "                        accidents_int['grav_fatal'].values)\n",
    "p_value = res_test[1]\n",
    "if res_test[0] > 0:\n",
    "    p_value = 1\n",
    "else:\n",
    "    p_value *= 2\n",
    "print(\"La p-value est de {:.2e}.\".format(p_value))\n",
    "print(\"La corrélation est de {:.2e}.\".format(res_test[0]))\n",
    "print()"
   ]
  },
  {
   "cell_type": "code",
   "execution_count": 10,
   "metadata": {
    "collapsed": false
   },
   "outputs": [
    {
     "data": {
      "text/plain": [
       "<matplotlib.axes._subplots.AxesSubplot at 0x6c82e82898>"
      ]
     },
     "execution_count": 10,
     "metadata": {},
     "output_type": "execute_result"
    }
   ],
   "source": [
    "#Mosaic plot survivant vs. sexe\n",
    "ct_survived_sex = pd.crosstab(accidents_int[\"mort\"], accidents_int[\"sexe_cond\"])\n",
    "N = np.sum(ct_survived_sex.values)\n",
    "phat = np.sum(ct_survived_sex.values[0,:]) / N\n",
    "deltap = scs.norm.ppf(.975) * np.sqrt(phat * (1-phat) / N)\n",
    "mosaic_plot(ct_survived_sex, {False: \"darkgrey\", True: \"black\"}, figsize=(10,10), pad_x=.01, pad_y=0,\n",
    "            x_label=\"Sexe du conducteur\", y_label=\"Mort\",\n",
    "            row_labels=[\"non\", \"oui\"],\n",
    "            col_labels=[\"homme\", \"femme\"],\n",
    "            top_label=\"Nombre de personnes impliquées\",\n",
    "            lines=[(phat+deltap, \"w--\", {\"linewidth\": 2}),\n",
    "                   (phat-deltap, \"w--\", {\"linewidth\": 2})])"
   ]
  },
  {
   "cell_type": "code",
   "execution_count": 11,
   "metadata": {
    "collapsed": false,
    "scrolled": false
   },
   "outputs": [
    {
     "data": {
      "text/plain": [
       "<matplotlib.axes._subplots.AxesSubplot at 0x6c82de1b00>"
      ]
     },
     "execution_count": 11,
     "metadata": {},
     "output_type": "execute_result"
    }
   ],
   "source": [
    "#Mosaic plot survivant vs. sexe\n",
    "ct_grav_sex = pd.crosstab(accidents_int[\"grav_fatal\"], accidents_int[\"sexe_cond\"])\n",
    "N = np.sum(ct_grav_sex.values)\n",
    "phat = np.sum(ct_grav_sex.values[0,:]) / N\n",
    "deltap = scs.norm.ppf(.975) * np.sqrt(phat * (1-phat) / N)\n",
    "mosaic_plot(ct_grav_sex, {False: \"darkgrey\", True: \"black\"}, figsize=(10,10), pad_x=.01, pad_y=0,\n",
    "            x_label=\"Sexe du conducteur\", y_label=\"Mort ou gravement blessé\",\n",
    "            row_labels=[\"non\", \"oui\"],\n",
    "            col_labels=[\"homme\", \"femme\"],\n",
    "            top_label=\"Nombre de personnes impliquées\",\n",
    "            lines=[(phat+deltap, \"w--\", {\"linewidth\": 2}),\n",
    "                   (phat-deltap, \"w--\", {\"linewidth\": 2})])"
   ]
  },
  {
   "cell_type": "code",
   "execution_count": 12,
   "metadata": {
    "collapsed": false
   },
   "outputs": [
    {
     "name": "stdout",
     "output_type": "stream",
     "text": [
      "cat_age_cond         0         1         2\n",
      "grav                                      \n",
      "1             0.261430  0.377151  0.373985\n",
      "2             0.051110  0.047453  0.089482\n",
      "3             0.388145  0.299228  0.334115\n",
      "4             0.299314  0.276169  0.202417\n",
      "\n"
     ]
    },
    {
     "data": {
      "image/png": "[encoded data removed]",
      "text/plain": [
       "<matplotlib.figure.Figure at 0x6c85a10fd0>"
      ]
     },
     "metadata": {},
     "output_type": "display_data"
    },
    {
     "data": {
      "image/png": "[encoded data removed]",
      "text/plain": [
       "<matplotlib.figure.Figure at 0x6c82e3bcc0>"
      ]
     },
     "metadata": {},
     "output_type": "display_data"
    },
    {
     "data": {
      "image/png": "[encoded data removed]",
      "text/plain": [
       "<matplotlib.figure.Figure at 0x6c82e47240>"
      ]
     },
     "metadata": {},
     "output_type": "display_data"
    }
   ],
   "source": [
    "an_stat = 2016\n",
    "accidents_int[\"junior\"] = accidents_int[\"an_nais_cond\"] >= an_stat - 21\n",
    "accidents_int[\"senior\"] = accidents_int[\"an_nais_cond\"] <= an_stat - 65\n",
    "accidents_int[\"cat_age_cond\"] = 0*accidents_int[\"junior\"] + \\\n",
    "                                1*(~(accidents_int[\"junior\"] | accidents_int[\"senior\"])) + \\\n",
    "                                2*accidents_int[\"senior\"]\n",
    "ct_age_gravite = pd.crosstab(accidents_int[\"grav\"], accidents_int[\"cat_age_cond\"], normalize=\"columns\")\n",
    "print(ct_age_gravite)\n",
    "print()\n",
    "plt.matshow(ct_age_gravite.values, cmap=cm.Reds, interpolation='none')\n",
    "plt.colorbar()\n",
    "plt.show()"
   ]
  },
  {
   "cell_type": "code",
   "execution_count": 13,
   "metadata": {
    "collapsed": false,
    "scrolled": true
   },
   "outputs": [
    {
     "name": "stdout",
     "output_type": "stream",
     "text": [
      "Test du chi2 : l’âge du conducteur est-il indépendant de la gravité de l’accident ?\n",
      "La p-value est de 4.94e-129.\n",
      "\n",
      "Test du chi2 : meurt-on davantage au volant si on est jeune ?\n",
      "La p-value est de 1.00e+00.\n",
      "La corrélation est de -3.10e-03.\n",
      "\n",
      "Test du chi2 : meurt-on **moins** au volant si on est jeune ?\n",
      "La p-value est de 1.00e+00.\n",
      "La corrélation est de -3.10e-03.\n",
      "\n",
      "Test du chi2 : est-on davantage mort ou blessé grave si on est un jeune ?\n",
      "La p-value est de 3.39e-35.\n",
      "La corrélation est de 5.74e-02.\n"
     ]
    }
   ],
   "source": [
    "print(\"Test du chi2 : l’âge du conducteur est-il indépendant de la gravité de l’accident ?\")\n",
    "ct_age_gravite_denormalized = pd.crosstab(accidents_int[\"grav\"], accidents_int[\"cat_age_cond\"])\n",
    "res_test = scs.chi2_contingency(ct_age_gravite_denormalized)\n",
    "print(\"La p-value est de {:.2e}.\".format(res_test[1]))\n",
    "print()\n",
    "\n",
    "\n",
    "print(\"Test du chi2 : meurt-on davantage au volant si on est jeune ?\")\n",
    "res_test = scs.pearsonr(accidents_int['junior'],\n",
    "                        accidents_int['mort'].values)\n",
    "p_value = res_test[1]\n",
    "if res_test[0] < 0:\n",
    "    p_value = 1\n",
    "else:\n",
    "    p_value *= 2\n",
    "print(\"La p-value est de {:.2e}.\".format(p_value))\n",
    "print(\"La corrélation est de {:.2e}.\".format(res_test[0]))\n",
    "print()\n",
    "\n",
    "\n",
    "print(\"Test du chi2 : meurt-on **moins** au volant si on est jeune ?\")\n",
    "res_test = scs.pearsonr(accidents_int['junior'],\n",
    "                        accidents_int['mort'].values)\n",
    "p_value = res_test[1]\n",
    "if res_test[0] > 0:\n",
    "    p_value = 1\n",
    "else:\n",
    "    p_value *= 2\n",
    "print(\"La p-value est de {:.2e}.\".format(p_value))\n",
    "print(\"La corrélation est de {:.2e}.\".format(res_test[0]))\n",
    "print()\n",
    "\n",
    "\n",
    "print(\"Test du chi2 : est-on davantage mort ou blessé grave si on est un jeune ?\")\n",
    "res_test = scs.pearsonr(accidents_int['junior'],\n",
    "                        accidents_int['grav_fatal'].values)\n",
    "p_value = res_test[1]\n",
    "if res_test[0] < 0:\n",
    "    p_value = 1\n",
    "else:\n",
    "    p_value *= 2\n",
    "print(\"La p-value est de {:.2e}.\".format(p_value))\n",
    "print(\"La corrélation est de {:.2e}.\".format(res_test[0]))"
   ]
  },
  {
   "cell_type": "code",
   "execution_count": 14,
   "metadata": {
    "collapsed": false
   },
   "outputs": [
    {
     "name": "stdout",
     "output_type": "stream",
     "text": [
      "junior      notyoung  young\n",
      "grav_fatal                 \n",
      "grav           26201   3434\n",
      "notgrav        14556   2690\n"
     ]
    },
    {
     "data": {
      "text/plain": [
       "<matplotlib.axes._subplots.AxesSubplot at 0x6c84744cc0>"
      ]
     },
     "execution_count": 14,
     "metadata": {},
     "output_type": "execute_result"
    }
   ],
   "source": [
    "#Mosaic plot accident_grave vs. jeune\n",
    "ct_grav_jeune = pd.crosstab(accidents_int[\"grav_fatal\"], accidents_int[\"junior\"])\n",
    "ct_grav_jeune = ct_grav_jeune.rename(columns={False: \"notyoung\", True: \"young\"})\n",
    "ct_grav_jeune = ct_grav_jeune.rename(index={False: \"grav\", True: \"notgrav\"})\n",
    "print(ct_grav_jeune)\n",
    "N = np.sum(ct_grav_jeune.values)\n",
    "phat = np.sum(ct_grav_jeune.values[0,:]) / N\n",
    "deltap = scs.norm.ppf(.975) * np.sqrt(phat * (1-phat) / N)\n",
    "mosaic_plot(ct_grav_jeune, {\"notgrav\": \"black\", \"grav\": \"darkgrey\"}, figsize=(10,10), pad_x=.01, pad_y=0,\n",
    "            x_label=\"Âge du conducteur\", y_label=\"Mort ou gravement blessé\",\n",
    "            row_labels=[\"non\", \"oui\"],\n",
    "            col_labels=[\"> 25 ans\", \"≤ 25 ans\"],\n",
    "            top_label=\"Nombre de personnes impliquées\",\n",
    "            lines=[(phat+deltap, \"w--\", {\"linewidth\": 2}),\n",
    "                   (phat-deltap, \"w--\", {\"linewidth\": 2})])"
   ]
  },
  {
   "cell_type": "code",
   "execution_count": 15,
   "metadata": {
    "collapsed": false
   },
   "outputs": [
    {
     "name": "stdout",
     "output_type": "stream",
     "text": [
      "junior  notyoung  young\n",
      "mort                   \n",
      "dead       38590   5811\n",
      "alive       2167    313\n"
     ]
    },
    {
     "data": {
      "text/plain": [
       "<matplotlib.axes._subplots.AxesSubplot at 0x6c88bd29b0>"
      ]
     },
     "execution_count": 15,
     "metadata": {},
     "output_type": "execute_result"
    }
   ],
   "source": [
    "#Mosaic plot mort vs. jeune\n",
    "ct_dead_jeune = pd.crosstab(accidents_int[\"mort\"], accidents_int[\"junior\"])\n",
    "ct_dead_jeune = ct_dead_jeune.rename(columns={False: \"notyoung\", True: \"young\"})\n",
    "ct_dead_jeune = ct_dead_jeune.rename(index={False: \"dead\", True: \"alive\"})\n",
    "print(ct_dead_jeune)\n",
    "N = np.sum(ct_dead_jeune.values)\n",
    "phat = np.sum(ct_dead_jeune.values[1,:]) / N\n",
    "deltap = scs.norm.ppf(.975) * np.sqrt(phat * (1-phat) / N)\n",
    "mosaic_plot(ct_dead_jeune, {\"alive\": \"black\", \"dead\": \"darkgrey\"}, figsize=(10,10), pad_x=.01, pad_y=0,\n",
    "            x_label=\"Âge du conducteur\", y_label=\"Mort\",\n",
    "            row_labels=[\"oui\", \"non\"],\n",
    "            col_labels=[\"> 25 ans\", \"≤ 25 ans\"],\n",
    "            top_label=\"Nombre de personnes impliquées\",\n",
    "            lines=[(phat+deltap, \"w--\", {\"linewidth\": 2}),\n",
    "                   (phat-deltap, \"w--\", {\"linewidth\": 2})])"
   ]
  },
  {
   "cell_type": "code",
   "execution_count": 16,
   "metadata": {
    "collapsed": false
   },
   "outputs": [
    {
     "name": "stdout",
     "output_type": "stream",
     "text": [
      "Test du chi2 : meurt-on davantage au volant si on est vieux ?\n",
      "La p-value est de 3.65e-38.\n",
      "La corrélation est de 5.98e-02.\n",
      "\n",
      "Test du chi2 : est-on davantage mort ou blessé grave si on est un vieux ?\n",
      "La p-value est de 9.75e-20.\n",
      "La corrélation est de 4.23e-02.\n",
      "\n"
     ]
    }
   ],
   "source": [
    "print(\"Test du chi2 : meurt-on davantage au volant si on est vieux ?\")\n",
    "res_test = scs.pearsonr(accidents_int['senior'],\n",
    "                        accidents_int['mort'].values)\n",
    "p_value = res_test[1]\n",
    "if res_test[0] < 0:\n",
    "    p_value = 1\n",
    "else:\n",
    "    p_value *= 2\n",
    "print(\"La p-value est de {:.2e}.\".format(p_value))\n",
    "print(\"La corrélation est de {:.2e}.\".format(res_test[0]))\n",
    "print()\n",
    "\n",
    "print(\"Test du chi2 : est-on davantage mort ou blessé grave si on est un vieux ?\")\n",
    "res_test = scs.pearsonr(accidents_int['senior'],\n",
    "                        accidents_int['grav_fatal'].values)\n",
    "p_value = res_test[1]\n",
    "if res_test[0] < 0:\n",
    "    p_value = 1\n",
    "else:\n",
    "    p_value *= 2\n",
    "print(\"La p-value est de {:.2e}.\".format(p_value))\n",
    "print(\"La corrélation est de {:.2e}.\".format(res_test[0]))\n",
    "print()"
   ]
  },
  {
   "cell_type": "code",
   "execution_count": 17,
   "metadata": {
    "collapsed": false
   },
   "outputs": [
    {
     "name": "stdout",
     "output_type": "stream",
     "text": [
      "senior  notold   old\n",
      "mort                \n",
      "dead     39354  5047\n",
      "alive     1984   496\n"
     ]
    },
    {
     "data": {
      "text/plain": [
       "<matplotlib.axes._subplots.AxesSubplot at 0x6c823c8f60>"
      ]
     },
     "execution_count": 17,
     "metadata": {},
     "output_type": "execute_result"
    }
   ],
   "source": [
    "#Mosaic plot mort vs. jeune\n",
    "ct_dead_old = pd.crosstab(accidents_int[\"mort\"], accidents_int[\"senior\"])\n",
    "ct_dead_old = ct_dead_old.rename(columns={False: \"notold\", True: \"old\"})\n",
    "ct_dead_old = ct_dead_old.rename(index={False: \"dead\", True: \"alive\"})\n",
    "print(ct_dead_old)\n",
    "N = np.sum(ct_dead_old.values)\n",
    "phat = np.sum(ct_dead_old.values[1,:]) / N\n",
    "deltap = scs.norm.ppf(.975) * np.sqrt(phat * (1-phat) / N)\n",
    "mosaic_plot(ct_dead_old, {\"alive\": \"black\", \"dead\": \"darkgrey\"}, figsize=(10,10), pad_x=.01, pad_y=0,\n",
    "            x_label=\"Âge du conducteur\", y_label=\"Mort\",\n",
    "            row_labels=[\"oui\", \"non\"],\n",
    "            col_labels=[\"≤ 65 ans\", \"> 65 ans\"],\n",
    "            top_label=\"Nombre de personnes impliquées\",\n",
    "            lines=[(phat+deltap, \"w--\", {\"linewidth\": 2}),\n",
    "                   (phat-deltap, \"w--\", {\"linewidth\": 2})])"
   ]
  },
  {
   "cell_type": "code",
   "execution_count": 18,
   "metadata": {
    "collapsed": false
   },
   "outputs": [
    {
     "name": "stdout",
     "output_type": "stream",
     "text": [
      "senior      notold   old\n",
      "grav_fatal              \n",
      "grav         26440  3195\n",
      "notgrav      14898  2348\n"
     ]
    },
    {
     "data": {
      "text/plain": [
       "<matplotlib.axes._subplots.AxesSubplot at 0x6c88c37d68>"
      ]
     },
     "execution_count": 18,
     "metadata": {},
     "output_type": "execute_result"
    }
   ],
   "source": [
    "#Mosaic plot mort vs. jeune\n",
    "ct_grav_old = pd.crosstab(accidents_int[\"grav_fatal\"], accidents_int[\"senior\"])\n",
    "ct_grav_old = ct_grav_old.rename(columns={False: \"notold\", True: \"old\"})\n",
    "ct_grav_old = ct_grav_old.rename(index={False: \"grav\", True: \"notgrav\"})\n",
    "print(ct_grav_old)\n",
    "N = np.sum(ct_grav_old.values)\n",
    "phat = np.sum(ct_grav_old.values[0,:]) / N\n",
    "deltap = scs.norm.ppf(.975) * np.sqrt(phat * (1-phat) / N)\n",
    "mosaic_plot(ct_grav_old, {\"grav\": \"black\", \"notgrav\": \"darkgrey\"}, figsize=(10,10), pad_x=.01, pad_y=0,\n",
    "            x_label=\"Âge du conducteur\", y_label=\"Mort ou gravement blessé\",\n",
    "            row_labels=[\"oui\", \"non\"],\n",
    "            col_labels=[\"≤ 65 ans\", \"> 65 ans\"],\n",
    "            top_label=\"Nombre de personnes impliquées\",\n",
    "            lines=[(phat+deltap, \"w--\", {\"linewidth\": 2}),\n",
    "                   (phat-deltap, \"w--\", {\"linewidth\": 2})])"
   ]
  },
  {
   "cell_type": "markdown",
   "metadata": {},
   "source": [
    "## Différence entre départementale et nationale"
   ]
  },
  {
   "cell_type": "code",
   "execution_count": 19,
   "metadata": {
    "collapsed": false
   },
   "outputs": [
    {
     "name": "stdout",
     "output_type": "stream",
     "text": [
      "catr         2         3\n",
      "grav                    \n",
      "1     0.372185  0.358816\n",
      "2     0.054765  0.052666\n",
      "3     0.253648  0.323601\n",
      "4     0.319402  0.264918\n"
     ]
    },
    {
     "data": {
      "image/png": "[encoded data removed]",
      "text/plain": [
       "<matplotlib.figure.Figure at 0x6c8241dfd0>"
      ]
     },
     "metadata": {},
     "output_type": "display_data"
    },
    {
     "data": {
      "image/png": "[encoded data removed]",
      "text/plain": [
       "<matplotlib.figure.Figure at 0x6c88bf85c0>"
      ]
     },
     "metadata": {},
     "output_type": "display_data"
    },
    {
     "data": {
      "image/png": "[encoded data removed]",
      "text/plain": [
       "<matplotlib.figure.Figure at 0x6c8281b2b0>"
      ]
     },
     "metadata": {},
     "output_type": "display_data"
    },
    {
     "data": {
      "image/png": "[encoded data removed]",
      "text/plain": [
       "<matplotlib.figure.Figure at 0x6c89730080>"
      ]
     },
     "metadata": {},
     "output_type": "display_data"
    },
    {
     "data": {
      "image/png": "[encoded data removed]",
      "text/plain": [
       "<matplotlib.figure.Figure at 0x6c88c76860>"
      ]
     },
     "metadata": {},
     "output_type": "display_data"
    },
    {
     "name": "stdout",
     "output_type": "stream",
     "text": [
      "2 : nationale ; 3 : départementale\n",
      "0 : indemne, 1 : mort, 2 : blessé grave, 3 : blessé léger\n"
     ]
    }
   ],
   "source": [
    "accidents_ints = dfs[2][nat_dep_non_tpc].merge(dfs[0])\n",
    "accidents_int[\"mort\"] = (accidents_int[\"grav\"] == 2)\n",
    "accidents_int[\"grav_fatal\"] = accidents_int[\"grav\"].isin({2,3})\n",
    "\n",
    "ct_grav_catr = pd.crosstab(accidents_ints[\"grav\"], accidents_ints[\"catr\"], normalize=\"columns\")\n",
    "print(ct_grav_catr)\n",
    "plt.matshow(ct_grav_catr, cmap=cm.Reds, interpolation='none')\n",
    "plt.colorbar()\n",
    "plt.show()\n",
    "print(\"2 : nationale ; 3 : départementale\")\n",
    "print(\"0 : indemne, 1 : mort, 2 : blessé grave, 3 : blessé léger\")"
   ]
  },
  {
   "cell_type": "code",
   "execution_count": 20,
   "metadata": {
    "collapsed": false
   },
   "outputs": [
    {
     "name": "stdout",
     "output_type": "stream",
     "text": [
      "Test du chi2 : le gestionnaire de l’infrastructure est-il indépendant de la gravité de l’accident ?\n",
      "La p-value est de 1.20e-28.\n",
      "\n",
      "Test du chi2 : indépendance des chances de mourir et d’être sur route nationale ?\n",
      "La p-value est de 6.40e-01.\n",
      "La corrélation est de -2.16e-03.\n",
      "\n",
      "Test du chi2 : indépendance des chances de mourir ou être blessé grave et d’être sur route nationale ?\n",
      "La p-value est de 2.59e-23.\n",
      "La corrélation est de 4.59e-02.\n"
     ]
    }
   ],
   "source": [
    "print(\"Test du chi2 : le gestionnaire de l’infrastructure est-il \"\\\n",
    "      \"indépendant de la gravité de l’accident ?\")\n",
    "ct_grav_catr_denormalized = pd.crosstab(accidents_int[\"grav\"], accidents_int[\"catr\"])\n",
    "res_test = scs.chi2_contingency(ct_grav_catr_denormalized)\n",
    "print(\"La p-value est de {:.2e}.\".format(res_test[1]))\n",
    "print()\n",
    "\n",
    "print(\"Test du chi2 : indépendance des chances de mourir et d’être sur route nationale ?\")\n",
    "res_test = scs.pearsonr(accidents_int['catr'],\n",
    "                        accidents_int['mort'].values)\n",
    "p_value = res_test[1]\n",
    "print(\"La p-value est de {:.2e}.\".format(p_value))\n",
    "print(\"La corrélation est de {:.2e}.\".format(res_test[0]))\n",
    "print()\n",
    "\n",
    "print(\"Test du chi2 : indépendance des chances de mourir ou être blessé grave et d’être sur route nationale ?\")\n",
    "res_test = scs.pearsonr(accidents_int['catr'],\n",
    "                        accidents_int['grav_fatal'].values)\n",
    "p_value = res_test[1]\n",
    "print(\"La p-value est de {:.2e}.\".format(p_value))\n",
    "print(\"La corrélation est de {:.2e}.\".format(res_test[0]))"
   ]
  },
  {
   "cell_type": "code",
   "execution_count": 21,
   "metadata": {
    "collapsed": false
   },
   "outputs": [
    {
     "name": "stdout",
     "output_type": "stream",
     "text": [
      "senior      notold   old\n",
      "grav_fatal              \n",
      "grav         26440  3195\n",
      "notgrav      14898  2348\n"
     ]
    },
    {
     "data": {
      "text/plain": [
       "<matplotlib.axes._subplots.AxesSubplot at 0x6c89757f28>"
      ]
     },
     "execution_count": 21,
     "metadata": {},
     "output_type": "execute_result"
    }
   ],
   "source": [
    "#Mosaic plot mort vs. jeune\n",
    "ct_grav_catr = pd.crosstab(accidents_int[\"grav_fatal\"], accidents_int[\"catr\"])\n",
    "ct_grav_catr = ct_grav_catr.rename(index={True: \"grav\", False: \"notgrav\"})\n",
    "print(ct_grav_old)\n",
    "N = np.sum(ct_grav_old.values)\n",
    "phat = np.sum(ct_grav_old.values[1,:]) / N\n",
    "deltap = scs.norm.ppf(.975) * np.sqrt(phat * (1-phat) / N)\n",
    "mosaic_plot(ct_grav_catr, {\"grav\": \"black\", \"notgrav\": \"darkgrey\"}, figsize=(10,10), pad_x=.01, pad_y=0,\n",
    "            x_label=\"Catégorie de la route\", y_label=\"Mort ou gravement blessé\",\n",
    "            row_labels=[\"oui\", \"non\"],\n",
    "            col_labels=[\"départementale\", \"nationale\"],\n",
    "            top_label=\"Nombre de personnes impliquées\",\n",
    "            lines=[(phat+deltap, \"w--\", {\"linewidth\": 2}),\n",
    "                   (phat-deltap, \"w--\", {\"linewidth\": 2})])"
   ]
  },
  {
   "cell_type": "code",
   "execution_count": 22,
   "metadata": {
    "collapsed": false
   },
   "outputs": [
    {
     "name": "stdout",
     "output_type": "stream",
     "text": [
      "catr           2      3\n",
      "grav_fatal             \n",
      "alive       3820  25815\n",
      "dead        1694  15552\n"
     ]
    },
    {
     "data": {
      "text/plain": [
       "<matplotlib.axes._subplots.AxesSubplot at 0x6c8c92eba8>"
      ]
     },
     "execution_count": 22,
     "metadata": {},
     "output_type": "execute_result"
    }
   ],
   "source": [
    "#Mosaic plot mort vs. jeune\n",
    "ct_mort_catr = pd.crosstab(accidents_int[\"grav_fatal\"], accidents_int[\"catr\"])\n",
    "ct_mort_catr = ct_mort_catr.rename(index={True: \"dead\", False: \"alive\"})\n",
    "print(ct_mort_catr)\n",
    "N = np.sum(ct_mort_catr.values)\n",
    "phat = np.sum(ct_mort_catr.values[0,:]) / N\n",
    "deltap = scs.norm.ppf(.975) * np.sqrt(phat * (1-phat) / N)\n",
    "mosaic_plot(ct_mort_catr, {\"dead\": \"black\", \"alive\": \"darkgrey\"}, figsize=(10,10), pad_x=.01, pad_y=0,\n",
    "            x_label=\"Catégorie de la route\", y_label=\"Mort\",\n",
    "            row_labels=[\"non\", \"oui\"],\n",
    "            col_labels=[\"départementale\", \"nationale\"],\n",
    "            top_label=\"Nombre de personnes impliquées\",\n",
    "            lines=[(phat+deltap, \"w--\", {\"linewidth\": 2}),\n",
    "                   (phat-deltap, \"w--\", {\"linewidth\": 2})])"
   ]
  },
  {
   "cell_type": "code",
   "execution_count": 23,
   "metadata": {
    "collapsed": false
   },
   "outputs": [
    {
     "name": "stdout",
     "output_type": "stream",
     "text": [
      "Test du chi2 : la bidirectionnalité est-elle indépendante deindépendant de la gravité de l’accident ?\n",
      "La p-value est de 5.52e-168.\n",
      "\n",
      "Test du chi2 : indépendance des chances de mourir et d’être sur route bidirectionnelle ?\n",
      "La p-value est de 1.00e+00.\n",
      "La corrélation est de nan.\n",
      "\n",
      "Test du chi2 : indépendance des chances de mourir ou être blessé grave et d’être sur route bidirectionnelle ?\n",
      "La p-value est de 8.85e-156.\n",
      "La corrélation est de -1.14e-01.\n"
     ]
    },
    {
     "name": "stderr",
     "output_type": "stream",
     "text": [
      "D:\\Users\\eric.benhamou\\AppData\\Local\\Continuum\\Anaconda3\\lib\\site-packages\\ipykernel\\__main__.py:2: SettingWithCopyWarning:\n",
      "\n",
      "\n",
      "A value is trying to be set on a copy of a slice from a DataFrame.\n",
      "Try using .loc[row_indexer,col_indexer] = value instead\n",
      "\n",
      "See the caveats in the documentation: http://pandas.pydata.org/pandas-docs/stable/indexing.html#indexing-view-versus-copy\n",
      "\n",
      "D:\\Users\\eric.benhamou\\AppData\\Local\\Continuum\\Anaconda3\\lib\\site-packages\\ipykernel\\__main__.py:3: SettingWithCopyWarning:\n",
      "\n",
      "\n",
      "A value is trying to be set on a copy of a slice from a DataFrame.\n",
      "Try using .loc[row_indexer,col_indexer] = value instead\n",
      "\n",
      "See the caveats in the documentation: http://pandas.pydata.org/pandas-docs/stable/indexing.html#indexing-view-versus-copy\n",
      "\n",
      "D:\\Users\\eric.benhamou\\AppData\\Local\\Continuum\\Anaconda3\\lib\\site-packages\\ipykernel\\__main__.py:4: SettingWithCopyWarning:\n",
      "\n",
      "\n",
      "A value is trying to be set on a copy of a slice from a DataFrame.\n",
      "Try using .loc[row_indexer,col_indexer] = value instead\n",
      "\n",
      "See the caveats in the documentation: http://pandas.pydata.org/pandas-docs/stable/indexing.html#indexing-view-versus-copy\n",
      "\n",
      "D:\\Users\\eric.benhamou\\AppData\\Local\\Continuum\\Anaconda3\\lib\\site-packages\\scipy\\stats\\stats.py:5084: RuntimeWarning:\n",
      "\n",
      "invalid value encountered in less\n",
      "\n"
     ]
    }
   ],
   "source": [
    "accidents_nat_dep = accidents[ accidents['catr'].isin({2,3})]\n",
    "accidents_nat_dep[\"mort\"] = (accidents_int[\"grav\"] == 2)\n",
    "accidents_nat_dep[\"grav_fatal\"] = accidents_nat_dep[\"grav\"].isin({2,3})\n",
    "accidents_nat_dep[\"is_bidir\"] = accidents_nat_dep[\"circ\"] == 3\n",
    "\n",
    "print(\"Test du chi2 : la bidirectionnalité est-elle indépendante de\"\\\n",
    "      \"indépendant de la gravité de l’accident ?\")\n",
    "ct_grav_bidir_denormalized = pd.crosstab(accidents_nat_dep[\"grav\"], accidents_nat_dep[\"is_bidir\"])\n",
    "res_test = scs.chi2_contingency(ct_grav_bidir_denormalized)\n",
    "print(\"La p-value est de {:.2e}.\".format(res_test[1]))\n",
    "print()\n",
    "\n",
    "print(\"Test du chi2 : indépendance des chances de mourir et d’être sur route bidirectionnelle ?\")\n",
    "res_test = scs.pearsonr(accidents_nat_dep['is_bidir'],\n",
    "                        accidents_nat_dep['mort'])\n",
    "p_value = res_test[1]\n",
    "print(\"La p-value est de {:.2e}.\".format(p_value))\n",
    "print(\"La corrélation est de {:.2e}.\".format(res_test[0]))\n",
    "print()\n",
    "\n",
    "print(\"Test du chi2 : indépendance des chances de mourir ou être blessé grave et d’être sur route bidirectionnelle ?\")\n",
    "res_test = scs.pearsonr(accidents_nat_dep['is_bidir'],\n",
    "                        accidents_nat_dep['grav_fatal'])\n",
    "p_value = res_test[1]\n",
    "print(\"La p-value est de {:.2e}.\".format(p_value))\n",
    "print(\"La corrélation est de {:.2e}.\".format(res_test[0]))"
   ]
  },
  {
   "cell_type": "code",
   "execution_count": 24,
   "metadata": {
    "collapsed": false
   },
   "outputs": [
    {
     "name": "stdout",
     "output_type": "stream",
     "text": [
      "is_bidir  notbidir  bidir\n",
      "mort                     \n",
      "alive        26709   1604\n",
      "dead          1510     71\n"
     ]
    },
    {
     "data": {
      "text/plain": [
       "<matplotlib.axes._subplots.AxesSubplot at 0x6c8aedac18>"
      ]
     },
     "execution_count": 24,
     "metadata": {},
     "output_type": "execute_result"
    }
   ],
   "source": [
    "#Mosaic plot mort vs. route_bidirectionnelle\n",
    "ct_mort_bidir = pd.crosstab(accidents_nat_dep[\"mort\"], accidents_nat_dep[\"is_bidir\"])\n",
    "ct_mort_bidir = ct_mort_bidir.rename(index={True: \"dead\", False: \"alive\"})\n",
    "ct_mort_bidir = ct_mort_bidir.rename(columns={True: \"bidir\", False: \"notbidir\"})\n",
    "print(ct_mort_bidir)\n",
    "N = np.sum(ct_mort_bidir.values)\n",
    "phat = np.sum(ct_mort_bidir.values[0,:]) / N\n",
    "deltap = scs.norm.ppf(.975) * np.sqrt(phat * (1-phat) / N)\n",
    "mosaic_plot(ct_mort_bidir, {\"dead\": \"black\", \"alive\": \"darkgrey\"}, figsize=(10,10), pad_x=.01, pad_y=0,\n",
    "            x_label=\"Route bidirectionnelle\", y_label=\"Mort\",\n",
    "            row_labels=[\"non\", \"oui\"],\n",
    "            col_labels=[\"oui\", \"non\"],\n",
    "            top_label=\"Nombre de personnes impliquées\",\n",
    "            lines=[(phat+deltap, \"w--\", {\"linewidth\": 2}),\n",
    "                   (phat-deltap, \"w--\", {\"linewidth\": 2})])"
   ]
  },
  {
   "cell_type": "code",
   "execution_count": 25,
   "metadata": {
    "collapsed": false
   },
   "outputs": [
    {
     "name": "stdout",
     "output_type": "stream",
     "text": [
      "is_bidir    False  True \n",
      "grav_fatal              \n",
      "alive       29752   5654\n",
      "dead        17344   1485\n"
     ]
    },
    {
     "data": {
      "text/plain": [
       "<matplotlib.axes._subplots.AxesSubplot at 0x6c823c8fd0>"
      ]
     },
     "execution_count": 25,
     "metadata": {},
     "output_type": "execute_result"
    }
   ],
   "source": [
    "#Mosaic plot mort vs. route_bidirectionnelle\n",
    "ct_grav_bidir = pd.crosstab(accidents_nat_dep[\"grav_fatal\"], accidents_nat_dep[\"is_bidir\"])\n",
    "ct_grav_bidir = ct_grav_bidir.rename(index={True: \"dead\", False: \"alive\"})\n",
    "print(ct_grav_bidir)\n",
    "N = np.sum(ct_grav_bidir.values)\n",
    "phat = np.sum(ct_grav_bidir.values[0,:]) / N\n",
    "deltap = scs.norm.ppf(.975) * np.sqrt(phat * (1-phat) / N)\n",
    "mosaic_plot(ct_grav_bidir, {\"dead\": \"black\", \"alive\": \"darkgrey\"}, figsize=(10,10), pad_x=.01, pad_y=0,\n",
    "            x_label=\"Route bidirectionnelle\", y_label=\"Mort ou blessé grave\",\n",
    "            row_labels=[\"non\", \"oui\"],\n",
    "            col_labels=[\"oui\", \"non\"],\n",
    "            top_label=\"Nombre de personnes impliquées\",\n",
    "            lines=[(phat+deltap, \"w--\", {\"linewidth\": 2}),\n",
    "                   (phat-deltap, \"w--\", {\"linewidth\": 2})])"
   ]
  },
  {
   "cell_type": "markdown",
   "metadata": {},
   "source": [
    "# Éclairage"
   ]
  },
  {
   "cell_type": "code",
   "execution_count": 26,
   "metadata": {
    "collapsed": false,
    "scrolled": true
   },
   "outputs": [
    {
     "name": "stdout",
     "output_type": "stream",
     "text": [
      "lum          1         2         3         4         5\n",
      "grav                                                  \n",
      "1     0.358767  0.351150  0.344315  0.377841  0.391753\n",
      "2     0.052318  0.060577  0.065383  0.048295  0.039550\n",
      "3     0.318473  0.319404  0.362561  0.318182  0.252296\n",
      "4     0.270442  0.268869  0.227741  0.255682  0.316401\n"
     ]
    },
    {
     "data": {
      "image/png": "[encoded data removed]",
      "text/plain": [
       "<matplotlib.figure.Figure at 0x6c897079e8>"
      ]
     },
     "metadata": {},
     "output_type": "display_data"
    },
    {
     "data": {
      "image/png": "[encoded data removed]",
      "text/plain": [
       "<matplotlib.figure.Figure at 0x6c8c91f160>"
      ]
     },
     "metadata": {},
     "output_type": "display_data"
    },
    {
     "data": {
      "image/png": "[encoded data removed]",
      "text/plain": [
       "<matplotlib.figure.Figure at 0x6c8afabb70>"
      ]
     },
     "metadata": {},
     "output_type": "display_data"
    },
    {
     "data": {
      "image/png": "[encoded data removed]",
      "text/plain": [
       "<matplotlib.figure.Figure at 0x6c85bfcd68>"
      ]
     },
     "metadata": {},
     "output_type": "display_data"
    },
    {
     "data": {
      "image/png": "[encoded data removed]",
      "text/plain": [
       "<matplotlib.figure.Figure at 0x6c8c8aec18>"
      ]
     },
     "metadata": {},
     "output_type": "display_data"
    }
   ],
   "source": [
    "accidents_int = accidents_int.merge(dfs[3])\n",
    "ct_lum_grav = pd.crosstab(accidents_ints[\"grav\"], accidents_int[\"lum\"], normalize=\"columns\")\n",
    "print(ct_lum_grav)\n",
    "plt.matshow(ct_lum_grav, cmap=cm.Reds, interpolation='none')\n",
    "plt.colorbar()\n",
    "plt.show()"
   ]
  },
  {
   "cell_type": "code",
   "execution_count": 27,
   "metadata": {
    "collapsed": false
   },
   "outputs": [
    {
     "name": "stdout",
     "output_type": "stream",
     "text": [
      "usagers  shape (133422, 12)\n",
      "vehicules  shape (101924, 9)\n",
      "lieux  shape (59432, 18)\n",
      "caracteristiques  shape (59432, 16)\n"
     ]
    }
   ],
   "source": [
    "files = [\"usagers\", \"vehicules\",\"lieux\", \"caracteristiques\"]\n",
    "for i, file in enumerate(files):\n",
    "    print( file, \" shape\", dfs[i].shape )"
   ]
  },
  {
   "cell_type": "code",
   "execution_count": 28,
   "metadata": {
    "collapsed": false
   },
   "outputs": [
    {
     "name": "stdout",
     "output_type": "stream",
     "text": [
      "\\begin{tabular}{lrrrrrrrrrr}\n",
      "\\toprule\n",
      "{} &      place &       catu &       grav &       sexe &     trajet &       secu &       locp &       actp &      etatp &    an\\_nais \\\\\n",
      "\\midrule\n",
      "count & 121,591.00 & 133,422.00 & 133,422.00 & 133,422.00 & 133,412.00 & 124,062.00 & 133,333.00 & 133,328.00 & 133,327.00 & 133,390.00 \\\\\n",
      "mean  &       1.33 &       1.35 &       2.50 &       1.30 &       3.00 &      16.97 &       0.25 &       0.29 &       0.11 &   1,977.39 \\\\\n",
      "std   &       0.90 &       0.64 &       1.33 &       0.46 &       2.66 &      16.43 &       0.91 &       1.08 &       0.39 &      18.66 \\\\\n",
      "min   &       1.00 &       1.00 &       1.00 &       1.00 &       0.00 &       1.00 &       0.00 &       0.00 &       0.00 &   1,911.00 \\\\\n",
      "25\\%   &       1.00 &       1.00 &       1.00 &       1.00 &       0.00 &      11.00 &       0.00 &       0.00 &       0.00 &   1,965.00 \\\\\n",
      "50\\%   &       1.00 &       1.00 &       3.00 &       1.00 &       4.00 &      11.00 &       0.00 &       0.00 &       0.00 &   1,980.00 \\\\\n",
      "75\\%   &       1.00 &       2.00 &       4.00 &       2.00 &       5.00 &      21.00 &       0.00 &       0.00 &       0.00 &   1,992.00 \\\\\n",
      "max   &       9.00 &       4.00 &       4.00 &       2.00 &       9.00 &      93.00 &       8.00 &       9.00 &       3.00 &   2,016.00 \\\\\n",
      "\\bottomrule\n",
      "\\end{tabular}\n",
      "\n",
      "\\captionof{table}{Descriptive stats for  usagers }\n",
      "\\vspace{0.5cm}\n",
      "\n",
      "\n",
      "\\begin{tabular}{lrrrrrrr}\n",
      "\\toprule\n",
      "{} &       senc &       catv &     occutc &        obs &       obsm &       choc &       manv \\\\\n",
      "\\midrule\n",
      "count & 101,852.00 & 101,924.00 & 101,924.00 & 101,886.00 & 101,874.00 & 101,913.00 & 101,917.00 \\\\\n",
      "mean  &       1.04 &      12.04 &       0.07 &       0.87 &       1.59 &       2.86 &       5.70 \\\\\n",
      "std   &       0.75 &      11.03 &       2.22 &       2.93 &       1.15 &       2.48 &       7.04 \\\\\n",
      "min   &       0.00 &       1.00 &       0.00 &       0.00 &       0.00 &       0.00 &       0.00 \\\\\n",
      "25\\%   &       0.00 &       7.00 &       0.00 &       0.00 &       1.00 &       1.00 &       1.00 \\\\\n",
      "50\\%   &       1.00 &       7.00 &       0.00 &       0.00 &       2.00 &       2.00 &       1.00 \\\\\n",
      "75\\%   &       2.00 &      10.00 &       0.00 &       0.00 &       2.00 &       4.00 &      13.00 \\\\\n",
      "max   &       2.00 &      99.00 &     300.00 &      16.00 &       9.00 &       9.00 &      24.00 \\\\\n",
      "\\bottomrule\n",
      "\\end{tabular}\n",
      "\n",
      "\\captionof{table}{Descriptive stats for  vehicules }\n",
      "\\vspace{0.5cm}\n",
      "\n",
      "\n",
      "\\begin{tabular}{lrrrrrrrrr}\n",
      "\\toprule\n",
      "{} &      catr &     v1 &      circ &       nbv &        pr &       pr1 &      vosp &      prof &      plan \\\\\n",
      "\\midrule\n",
      "count & 59,432.00 & 458.00 & 59,320.00 & 59,268.00 & 24,963.00 & 24,920.00 & 59,222.00 & 59,276.00 & 59,254.00 \\\\\n",
      "mean  &      3.32 &   2.11 &      1.83 &      2.04 &     32.61 &    385.80 &      0.14 &      1.11 &      1.17 \\\\\n",
      "std   &      1.15 &   0.32 &      0.77 &      1.35 &    118.29 &    356.89 &      0.57 &      0.62 &      0.74 \\\\\n",
      "min   &      1.00 &   2.00 &      0.00 &      0.00 &      0.00 &      0.00 &      0.00 &      0.00 &      0.00 \\\\\n",
      "25\\%   &      3.00 &   2.00 &      1.00 &      1.00 &      3.00 &     50.00 &      0.00 &      1.00 &      1.00 \\\\\n",
      "50\\%   &      4.00 &   2.00 &      2.00 &      2.00 &     11.00 &    350.00 &      0.00 &      1.00 &      1.00 \\\\\n",
      "75\\%   &      4.00 &   2.00 &      2.00 &      2.00 &     31.00 &    630.00 &      0.00 &      1.00 &      1.00 \\\\\n",
      "max   &      9.00 &   3.00 &      4.00 &     13.00 &  8,370.00 &  5,660.00 &      3.00 &      4.00 &      4.00 \\\\\n",
      "\\bottomrule\n",
      "\\end{tabular}\n",
      "\n",
      "\\begin{tabular}{lrrrrrr}\n",
      "\\toprule\n",
      "{} &    lartpc &   larrout &      surf &     infra &      situ &      env1 \\\\\n",
      "\\midrule\n",
      "count & 57,594.00 & 57,809.00 & 59,286.00 & 59,130.00 & 59,139.00 & 59,125.00 \\\\\n",
      "mean  &      5.14 &     50.19 &      1.21 &      0.44 &      1.13 &     47.38 \\\\\n",
      "std   &     21.06 &     62.86 &      0.88 &      1.35 &      0.76 &     49.32 \\\\\n",
      "min   &      0.00 &      0.00 &      0.00 &      0.00 &      0.00 &      0.00 \\\\\n",
      "25\\%   &      0.00 &      0.00 &      1.00 &      0.00 &      1.00 &      0.00 \\\\\n",
      "50\\%   &      0.00 &     50.00 &      1.00 &      0.00 &      1.00 &      3.00 \\\\\n",
      "75\\%   &      0.00 &     73.00 &      1.00 &      0.00 &      1.00 &     99.00 \\\\\n",
      "max   &    907.00 &    999.00 &      9.00 &      7.00 &      5.00 &     99.00 \\\\\n",
      "\\bottomrule\n",
      "\\end{tabular}\n",
      "\n",
      "\\captionof{table}{Descriptive stats for  lieux }\n",
      "\\vspace{0.5cm}\n",
      "\n",
      "\n",
      "\\begin{tabular}{lrrrrrrrrrr}\n",
      "\\toprule\n",
      "{} &        an &      mois &      jour &      hrmn &       lum &       agg &       int &       atm &       col &       com \\\\\n",
      "\\midrule\n",
      "count & 59,432.00 & 59,432.00 & 59,432.00 & 59,432.00 & 59,432.00 & 59,432.00 & 59,432.00 & 59,432.00 & 59,430.00 & 59,432.00 \\\\\n",
      "mean  &     16.00 &      6.70 &     15.53 &  1,373.31 &      1.91 &      1.64 &      1.76 &      1.52 &      4.13 &    189.69 \\\\\n",
      "std   &      0.00 &      3.43 &      8.81 &    545.60 &      1.50 &      0.48 &      1.57 &      1.51 &      1.96 &    170.00 \\\\\n",
      "min   &     16.00 &      1.00 &      1.00 &      1.00 &      1.00 &      1.00 &      1.00 &      1.00 &      1.00 &      1.00 \\\\\n",
      "25\\%   &     16.00 &      4.00 &      8.00 &    945.00 &      1.00 &      1.00 &      1.00 &      1.00 &      3.00 &     57.00 \\\\\n",
      "50\\%   &     16.00 &      7.00 &     15.00 &  1,442.00 &      1.00 &      2.00 &      1.00 &      1.00 &      3.00 &    118.00 \\\\\n",
      "75\\%   &     16.00 &     10.00 &     23.00 &  1,810.00 &      3.00 &      2.00 &      2.00 &      1.00 &      6.00 &    281.00 \\\\\n",
      "max   &     16.00 &     12.00 &     31.00 &  2,359.00 &      5.00 &      2.00 &      9.00 &      9.00 &      7.00 &    907.00 \\\\\n",
      "\\bottomrule\n",
      "\\end{tabular}\n",
      "\n",
      "\\begin{tabular}{lrrr}\n",
      "\\toprule\n",
      "{} &          lat &         long &       dep \\\\\n",
      "\\midrule\n",
      "count &    46,585.00 &    46,585.00 & 59,432.00 \\\\\n",
      "mean  & 4,101,575.97 &   236,836.68 &    583.33 \\\\\n",
      "std   & 1,568,367.83 &   442,812.00 &    294.49 \\\\\n",
      "min   &         0.00 &  -476,034.00 &     10.00 \\\\\n",
      "25\\%   & 4,353,665.00 &         0.00 &    330.00 \\\\\n",
      "50\\%   & 4,722,596.00 &   232,190.00 &    670.00 \\\\\n",
      "75\\%   & 4,883,760.00 &   402,173.00 &    840.00 \\\\\n",
      "max   & 5,106,528.00 & 6,156,877.00 &    976.00 \\\\\n",
      "\\bottomrule\n",
      "\\end{tabular}\n",
      "\n",
      "\\captionof{table}{Descriptive stats for  caracteristiques }\n",
      "\\vspace{0.5cm}\n",
      "\n",
      "\n"
     ]
    }
   ],
   "source": [
    "# hello\n",
    "pd.options.display.float_format = '{:,.2f}'.format\n",
    "for i, file in enumerate(files):\n",
    "    df_0 =dfs[i].drop('Num_Acc',axis=1)\n",
    "    if len(df_0.columns)>11:\n",
    "        print(df_0.drop(df_0.columns[11:],axis=1).describe().to_latex())\n",
    "        print(df_0.drop(df_0.columns[:11],axis=1).describe().to_latex())\n",
    "    else:\n",
    "        print(df_0.describe().to_latex())\n",
    "    print('\\captionof{table}{Descriptive stats for ', file, '}\\n\\\\vspace{0.5cm}\\n\\n')"
   ]
  },
  {
   "cell_type": "code",
   "execution_count": 29,
   "metadata": {
    "collapsed": false
   },
   "outputs": [
    {
     "data": {
      "text/plain": [
       "6"
      ]
     },
     "execution_count": 29,
     "metadata": {},
     "output_type": "execute_result"
    }
   ],
   "source": [
    "dfs[2].drop(['situ', 'env1'],axis=1).describe().to_latex()\n",
    "len(dfs[2].columns[12:])\n"
   ]
  }
 ],
 "metadata": {
  "kernelspec": {
   "display_name": "Python 3",
   "language": "python",
   "name": "python3"
  },
  "language_info": {
   "codemirror_mode": {
    "name": "ipython",
    "version": 3
   },
   "file_extension": ".py",
   "mimetype": "text/x-python",
   "name": "python",
   "nbconvert_exporter": "python",
   "pygments_lexer": "ipython3",
   "version": "3.6.0"
  }
 },
 "nbformat": 4,
 "nbformat_minor": 2
}
